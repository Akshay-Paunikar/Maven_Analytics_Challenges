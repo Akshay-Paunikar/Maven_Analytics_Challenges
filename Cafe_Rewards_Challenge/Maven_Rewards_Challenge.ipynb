{
 "cells": [
  {
   "cell_type": "markdown",
   "metadata": {},
   "source": [
    "<h2>Maven Rewards Challenge:</h2>\n",
    "\n",
    "<h3>Challenge Objective:</h3>\n",
    "For the Maven Rewards Challenge, you’ll play the role of a Sr. Marketing Analyst at Maven Cafe.\n",
    "\n",
    "You've just run a test by sending different combinations of promotional offers to existing rewards members. Now that the 30-day period for the test has concluded, your task is to identify key customer segments and develop a data-driven strategy for future promotional messaging & targeting.\n",
    "\n",
    "The results need to be summarized in a report that will be presented to the CMO.\n",
    "\n",
    "<h3>Cafe Rewards Offers:</h3>\n",
    "Data that simulates the behavior of Cafe Rewards members over a 30-day period, including their transactions and responses to promotional offers.\n",
    "\n",
    "Customers receive offers once every few days and have a limited time to redeem them. These can be informational offers (simple advertisement of a product), discount offers, or \"buy one, get one\" (BOGO) offers. Each customer receives a different mix of offers, attempting to maximize their probability of making a purchase.\n",
    "\n",
    "Every customer purchase during the period is marked as a transaction. For a transaction to be attributed to an offer, it must occur at the same time as when the offer was \"completed\" by the customer."
   ]
  }
 ],
 "metadata": {
  "kernelspec": {
   "display_name": "Deep_Learning",
   "language": "python",
   "name": "python3"
  },
  "language_info": {
   "name": "python",
   "version": "3.9.18"
  }
 },
 "nbformat": 4,
 "nbformat_minor": 2
}
