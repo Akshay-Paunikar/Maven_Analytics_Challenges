{
 "cells": [
  {
   "cell_type": "markdown",
   "id": "30864c7e",
   "metadata": {},
   "source": [
    "### Maven Everest Challenge\n",
    "\n",
    "Use data storytelling to visualize the evolution of mankind's pursuit of the world's highest peak.\n",
    "\n",
    "#### Challenge Objective:\n",
    "\n",
    "For the Maven Everest Challenge, you’ll play the role of a data journalist tasked with telling the story of mankind’s quest to conquer Mount Everest. Using real expedition data, your goal is to craft a compelling visual narrative that highlights things like key milestones, shifting strategies, and the climbers who dared to reach the top of the world.\n",
    "\n",
    "#### About The Data Set:\n",
    "\n",
    "This dataset, based on the archives of Elizabeth Hawley, provides a comprehensive record of mountaineering expeditions in the Nepalese Himalaya, spanning from 1905 to 2024. It includes detailed information on 89,000+ members across 11,000+ expeditions and 480 mountain peaks, including dates, successes, and significant events."
   ]
  },
  {
   "cell_type": "code",
   "execution_count": 1,
   "id": "4648773c",
   "metadata": {},
   "outputs": [],
   "source": [
    "# importing libraries\n",
    "import numpy as np\n",
    "import pandas as pd\n",
    "import matplotlib.pyplot as plt\n",
    "%matplotlib inline\n",
    "import seaborn as sns\n",
    "import warnings\n",
    "warnings.filterwarnings('ignore')"
   ]
  },
  {
   "cell_type": "code",
   "execution_count": 12,
   "id": "ffa1deef",
   "metadata": {},
   "outputs": [],
   "source": [
    "# read all the datasets\n",
    "expedition = pd.read_csv('E:\\Maven_Analytics_Challenges\\Everest_Challenge\\HimalayanExpeditions\\exped.csv')\n",
    "members = pd.read_csv('E:\\Maven_Analytics_Challenges\\Everest_Challenge\\HimalayanExpeditions\\members.csv')\n",
    "peaks = pd.read_csv('E:\\Maven_Analytics_Challenges\\Everest_Challenge\\HimalayanExpeditions\\peaks.csv')\n",
    "reference = pd.read_csv('E:\\\\Maven_Analytics_Challenges\\\\Everest_Challenge\\\\HimalayanExpeditions\\\\refer.csv', encoding=\"ISO-8859-1\")"
   ]
  },
  {
   "cell_type": "code",
   "execution_count": 13,
   "id": "cdbe066b",
   "metadata": {},
   "outputs": [
    {
     "name": "stdout",
     "output_type": "stream",
     "text": [
      "Expedition shape: (11425, 65)\n",
      "Members shape: (89000, 61)\n",
      "Peaks shape: (480, 23)\n",
      "Reference shape: (15586, 12)\n"
     ]
    }
   ],
   "source": [
    "print('Expedition shape:', expedition.shape)\n",
    "print('Members shape:', members.shape)\n",
    "print('Peaks shape:', peaks.shape)\n",
    "print('Reference shape:', reference.shape)"
   ]
  },
  {
   "cell_type": "code",
   "execution_count": null,
   "id": "aa8c77d2",
   "metadata": {},
   "outputs": [],
   "source": []
  }
 ],
 "metadata": {
  "kernelspec": {
   "display_name": "Deep_Learning",
   "language": "python",
   "name": "python3"
  },
  "language_info": {
   "codemirror_mode": {
    "name": "ipython",
    "version": 3
   },
   "file_extension": ".py",
   "mimetype": "text/x-python",
   "name": "python",
   "nbconvert_exporter": "python",
   "pygments_lexer": "ipython3",
   "version": "3.9.18"
  }
 },
 "nbformat": 4,
 "nbformat_minor": 5
}
