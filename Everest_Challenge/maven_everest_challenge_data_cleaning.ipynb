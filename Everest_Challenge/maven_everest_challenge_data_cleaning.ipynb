{
 "cells": [
  {
   "cell_type": "markdown",
   "id": "30864c7e",
   "metadata": {},
   "source": [
    "### Maven Everest Challenge\n",
    "\n",
    "Use data storytelling to visualize the evolution of mankind's pursuit of the world's highest peak.\n",
    "\n",
    "#### Challenge Objective:\n",
    "\n",
    "For the Maven Everest Challenge, you’ll play the role of a data journalist tasked with telling the story of mankind’s quest to conquer Mount Everest. Using real expedition data, your goal is to craft a compelling visual narrative that highlights things like key milestones, shifting strategies, and the climbers who dared to reach the top of the world.\n",
    "\n",
    "#### About The Data Set:\n",
    "\n",
    "This dataset, based on the archives of Elizabeth Hawley, provides a comprehensive record of mountaineering expeditions in the Nepalese Himalaya, spanning from 1905 to 2024. It includes detailed information on 89,000+ members across 11,000+ expeditions and 480 mountain peaks, including dates, successes, and significant events."
   ]
  },
  {
   "cell_type": "code",
   "execution_count": 1,
   "id": "4648773c",
   "metadata": {},
   "outputs": [],
   "source": [
    "# importing libraries\n",
    "import numpy as np\n",
    "import pandas as pd\n",
    "import matplotlib.pyplot as plt\n",
    "%matplotlib inline\n",
    "import seaborn as sns\n",
    "import warnings\n",
    "warnings.filterwarnings('ignore')\n",
    "\n",
    "# show full output\n",
    "pd.set_option('display.max_columns', 1000)\n",
    "pd.set_option('display.max_rows', 1000)"
   ]
  },
  {
   "cell_type": "code",
   "execution_count": 2,
   "id": "ffa1deef",
   "metadata": {},
   "outputs": [],
   "source": [
    "# read all the datasets\n",
    "expedition = pd.read_csv('E:\\Maven_Analytics_Challenges\\Everest_Challenge\\HimalayanExpeditions\\exped.csv')\n",
    "members = pd.read_csv('E:\\Maven_Analytics_Challenges\\Everest_Challenge\\HimalayanExpeditions\\members.csv')\n",
    "peaks = pd.read_csv('E:\\Maven_Analytics_Challenges\\Everest_Challenge\\HimalayanExpeditions\\peaks.csv')\n",
    "reference = pd.read_csv('E:\\\\Maven_Analytics_Challenges\\\\Everest_Challenge\\\\HimalayanExpeditions\\\\refer.csv', encoding=\"ISO-8859-1\")"
   ]
  },
  {
   "cell_type": "code",
   "execution_count": 3,
   "id": "cdbe066b",
   "metadata": {},
   "outputs": [
    {
     "name": "stdout",
     "output_type": "stream",
     "text": [
      "Expedition shape: (11425, 65)\n",
      "Members shape: (89000, 61)\n",
      "Peaks shape: (480, 23)\n",
      "Reference shape: (15586, 12)\n"
     ]
    }
   ],
   "source": [
    "print('Expedition shape:', expedition.shape)\n",
    "print('Members shape:', members.shape)\n",
    "print('Peaks shape:', peaks.shape)\n",
    "print('Reference shape:', reference.shape)"
   ]
  },
  {
   "cell_type": "code",
   "execution_count": 4,
   "id": "3dc5c94f",
   "metadata": {},
   "outputs": [],
   "source": [
    "# let's join the members and expedition dataframes on expid\n",
    "members_expedition = pd.merge(members, expedition, on='expid', how='left')"
   ]
  },
  {
   "cell_type": "code",
   "execution_count": 5,
   "id": "d26cc018",
   "metadata": {},
   "outputs": [
    {
     "data": {
      "text/plain": [
       "(89089, 125)"
      ]
     },
     "execution_count": 5,
     "metadata": {},
     "output_type": "execute_result"
    }
   ],
   "source": [
    "members_expedition.shape"
   ]
  },
  {
   "cell_type": "code",
   "execution_count": 6,
   "id": "04b0bf0c",
   "metadata": {},
   "outputs": [],
   "source": [
    "# lets check if values in peakid_x and peakid_y are same\n",
    "for i in range(len(members_expedition)):\n",
    "    if members_expedition['peakid_x'][i] != members_expedition['peakid_y'][i]:\n",
    "        print('Not same:', members_expedition['peakid_x'][i], members_expedition['peakid_y'][i])"
   ]
  },
  {
   "cell_type": "code",
   "execution_count": 7,
   "id": "80a42582",
   "metadata": {},
   "outputs": [],
   "source": [
    "# drop the column peakid_y\n",
    "members_expedition.drop(columns=['peakid_y'], inplace=True)"
   ]
  },
  {
   "cell_type": "code",
   "execution_count": 8,
   "id": "046a4c48",
   "metadata": {},
   "outputs": [],
   "source": [
    "# now let's join the members_expedition dataframe with the peaks dataframe on peakid\n",
    "members_expedition = pd.merge(members_expedition, peaks, left_on='peakid_x', right_on='peakid', how='left')"
   ]
  },
  {
   "cell_type": "code",
   "execution_count": 9,
   "id": "16a1a200",
   "metadata": {},
   "outputs": [
    {
     "data": {
      "text/plain": [
       "(89089, 147)"
      ]
     },
     "execution_count": 9,
     "metadata": {},
     "output_type": "execute_result"
    }
   ],
   "source": [
    "members_expedition.shape"
   ]
  },
  {
   "cell_type": "code",
   "execution_count": 10,
   "id": "3ffdc5ef",
   "metadata": {},
   "outputs": [],
   "source": [
    "# now finally let's join the members_expedition dataframe with the reference dataframe on expid\n",
    "members_expedition = pd.merge(members_expedition, reference, on='expid', how='left')"
   ]
  },
  {
   "cell_type": "code",
   "execution_count": 11,
   "id": "510e5f2b",
   "metadata": {},
   "outputs": [
    {
     "data": {
      "text/plain": [
       "(200037, 158)"
      ]
     },
     "execution_count": 11,
     "metadata": {},
     "output_type": "execute_result"
    }
   ],
   "source": [
    "members_expedition.shape"
   ]
  },
  {
   "cell_type": "code",
   "execution_count": 12,
   "id": "bb7e5eea",
   "metadata": {},
   "outputs": [],
   "source": [
    "# let's remove the columns that has more than 90% null values\n",
    "members_expedition = members_expedition.dropna(thresh=len(members_expedition) * 0.9, axis=1)"
   ]
  },
  {
   "cell_type": "code",
   "execution_count": 13,
   "id": "c744bec3",
   "metadata": {},
   "outputs": [
    {
     "data": {
      "text/plain": [
       "(200037, 107)"
      ]
     },
     "execution_count": 13,
     "metadata": {},
     "output_type": "execute_result"
    }
   ],
   "source": [
    "members_expedition.shape"
   ]
  },
  {
   "cell_type": "code",
   "execution_count": 14,
   "id": "ea5f3246",
   "metadata": {},
   "outputs": [
    {
     "data": {
      "text/plain": [
       "110948"
      ]
     },
     "execution_count": 14,
     "metadata": {},
     "output_type": "execute_result"
    }
   ],
   "source": [
    "# duplicate records\n",
    "members_expedition.duplicated().sum()"
   ]
  },
  {
   "cell_type": "code",
   "execution_count": 15,
   "id": "325c6c05",
   "metadata": {},
   "outputs": [
    {
     "data": {
      "text/plain": [
       "(89089, 107)"
      ]
     },
     "execution_count": 15,
     "metadata": {},
     "output_type": "execute_result"
    }
   ],
   "source": [
    "# lets remove the duplicate records\n",
    "members_expedition = members_expedition.drop_duplicates()\n",
    "members_expedition.shape"
   ]
  },
  {
   "cell_type": "code",
   "execution_count": 16,
   "id": "2fe18028",
   "metadata": {},
   "outputs": [
    {
     "data": {
      "text/plain": [
       "Index(['fname', 'lname', 'citizen', 'msmtterm', 'route1', 'leaders', 'sponsor',\n",
       "       'smtdate', 'campsites', 'location', 'pyear', 'pseason', 'pmonth',\n",
       "       'pday', 'pexpid', 'pcountry', 'psummiters'],\n",
       "      dtype='object')"
      ]
     },
     "execution_count": 16,
     "metadata": {},
     "output_type": "execute_result"
    }
   ],
   "source": [
    "# colums with null values\n",
    "members_expedition.columns[members_expedition.isnull().any()]"
   ]
  },
  {
   "cell_type": "code",
   "execution_count": 17,
   "id": "7af0e65f",
   "metadata": {},
   "outputs": [],
   "source": [
    "# let's fill the null values in the columns with \"not available\"\n",
    "members_expedition = members_expedition.fillna('not available')"
   ]
  },
  {
   "cell_type": "code",
   "execution_count": 18,
   "id": "f5d2c2a9",
   "metadata": {},
   "outputs": [
    {
     "data": {
      "text/plain": [
       "0"
      ]
     },
     "execution_count": 18,
     "metadata": {},
     "output_type": "execute_result"
    }
   ],
   "source": [
    "members_expedition.duplicated().sum()"
   ]
  },
  {
   "cell_type": "code",
   "execution_count": 19,
   "id": "77e354cd",
   "metadata": {},
   "outputs": [
    {
     "data": {
      "text/plain": [
       "Index([], dtype='object')"
      ]
     },
     "execution_count": 19,
     "metadata": {},
     "output_type": "execute_result"
    }
   ],
   "source": [
    "# colums with null values\n",
    "members_expedition.columns[members_expedition.isnull().any()]"
   ]
  },
  {
   "cell_type": "code",
   "execution_count": 20,
   "id": "766ce526",
   "metadata": {},
   "outputs": [],
   "source": [
    "# now that we have cleaned the data, let's save the cleaned data to a csv file\n",
    "members_expedition.to_csv('E:\\Maven_Analytics_Challenges\\Everest_Challenge\\HimalayanExpeditions\\members_expedition.csv', index=False)"
   ]
  }
 ],
 "metadata": {
  "kernelspec": {
   "display_name": "Deep_Learning",
   "language": "python",
   "name": "python3"
  },
  "language_info": {
   "codemirror_mode": {
    "name": "ipython",
    "version": 3
   },
   "file_extension": ".py",
   "mimetype": "text/x-python",
   "name": "python",
   "nbconvert_exporter": "python",
   "pygments_lexer": "ipython3",
   "version": "3.9.18"
  }
 },
 "nbformat": 4,
 "nbformat_minor": 5
}
