{
 "cells": [
  {
   "cell_type": "markdown",
   "id": "30864c7e",
   "metadata": {},
   "source": [
    "### Maven Everest Challenge\n",
    "\n",
    "Use data storytelling to visualize the evolution of mankind's pursuit of the world's highest peak.\n",
    "\n",
    "#### Challenge Objective:\n",
    "\n",
    "For the Maven Everest Challenge, you’ll play the role of a data journalist tasked with telling the story of mankind’s quest to conquer Mount Everest. Using real expedition data, your goal is to craft a compelling visual narrative that highlights things like key milestones, shifting strategies, and the climbers who dared to reach the top of the world.\n",
    "\n",
    "#### About The Data Set:\n",
    "\n",
    "This dataset, based on the archives of Elizabeth Hawley, provides a comprehensive record of mountaineering expeditions in the Nepalese Himalaya, spanning from 1905 to 2024. It includes detailed information on 89,000+ members across 11,000+ expeditions and 480 mountain peaks, including dates, successes, and significant events."
   ]
  },
  {
   "cell_type": "code",
   "execution_count": 203,
   "id": "4648773c",
   "metadata": {},
   "outputs": [],
   "source": [
    "# importing libraries\n",
    "import numpy as np\n",
    "import pandas as pd\n",
    "import matplotlib.pyplot as plt\n",
    "%matplotlib inline\n",
    "import seaborn as sns\n",
    "import warnings\n",
    "warnings.filterwarnings('ignore')\n",
    "\n",
    "# show full output\n",
    "pd.set_option('display.max_columns', 1000)\n",
    "pd.set_option('display.max_rows', 1000)"
   ]
  },
  {
   "cell_type": "code",
   "execution_count": 204,
   "id": "ffa1deef",
   "metadata": {},
   "outputs": [],
   "source": [
    "# read all the datasets\n",
    "expedition = pd.read_csv('E:\\Maven_Analytics_Challenges\\Everest_Challenge\\HimalayanExpeditions\\exped.csv')\n",
    "members = pd.read_csv('E:\\Maven_Analytics_Challenges\\Everest_Challenge\\HimalayanExpeditions\\members.csv')\n",
    "peaks = pd.read_csv('E:\\Maven_Analytics_Challenges\\Everest_Challenge\\HimalayanExpeditions\\peaks.csv')\n",
    "reference = pd.read_csv('E:\\\\Maven_Analytics_Challenges\\\\Everest_Challenge\\\\HimalayanExpeditions\\\\refer.csv', encoding=\"ISO-8859-1\")"
   ]
  },
  {
   "cell_type": "code",
   "execution_count": 205,
   "id": "cdbe066b",
   "metadata": {},
   "outputs": [
    {
     "name": "stdout",
     "output_type": "stream",
     "text": [
      "Expedition shape: (11425, 65)\n",
      "Members shape: (89000, 61)\n",
      "Peaks shape: (480, 23)\n",
      "Reference shape: (15586, 12)\n"
     ]
    }
   ],
   "source": [
    "print('Expedition shape:', expedition.shape)\n",
    "print('Members shape:', members.shape)\n",
    "print('Peaks shape:', peaks.shape)\n",
    "print('Reference shape:', reference.shape)"
   ]
  },
  {
   "cell_type": "code",
   "execution_count": 206,
   "id": "3dc5c94f",
   "metadata": {},
   "outputs": [],
   "source": [
    "# let's join the members and expedition dataframes on expid\n",
    "members_expedition = pd.merge(members, expedition, on='expid', how='left')"
   ]
  },
  {
   "cell_type": "code",
   "execution_count": 207,
   "id": "d26cc018",
   "metadata": {},
   "outputs": [
    {
     "data": {
      "text/plain": [
       "(89089, 125)"
      ]
     },
     "execution_count": 207,
     "metadata": {},
     "output_type": "execute_result"
    }
   ],
   "source": [
    "members_expedition.shape"
   ]
  },
  {
   "cell_type": "code",
   "execution_count": 208,
   "id": "04b0bf0c",
   "metadata": {},
   "outputs": [],
   "source": [
    "# lets check if values in peakid_x and peakid_y are same\n",
    "for i in range(len(members_expedition)):\n",
    "    if members_expedition['peakid_x'][i] != members_expedition['peakid_y'][i]:\n",
    "        print('Not same:', members_expedition['peakid_x'][i], members_expedition['peakid_y'][i])"
   ]
  },
  {
   "cell_type": "code",
   "execution_count": 209,
   "id": "80a42582",
   "metadata": {},
   "outputs": [],
   "source": [
    "# drop the column peakid_y\n",
    "members_expedition.drop(columns=['peakid_y'], inplace=True)"
   ]
  },
  {
   "cell_type": "code",
   "execution_count": 210,
   "id": "046a4c48",
   "metadata": {},
   "outputs": [],
   "source": [
    "# now let's join the members_expedition dataframe with the peaks dataframe on peakid\n",
    "members_expedition = pd.merge(members_expedition, peaks, left_on='peakid_x', right_on='peakid', how='left')"
   ]
  },
  {
   "cell_type": "code",
   "execution_count": 211,
   "id": "16a1a200",
   "metadata": {},
   "outputs": [
    {
     "data": {
      "text/plain": [
       "(89089, 147)"
      ]
     },
     "execution_count": 211,
     "metadata": {},
     "output_type": "execute_result"
    }
   ],
   "source": [
    "members_expedition.shape"
   ]
  },
  {
   "cell_type": "code",
   "execution_count": 212,
   "id": "3ffdc5ef",
   "metadata": {},
   "outputs": [],
   "source": [
    "# now finally let's join the members_expedition dataframe with the reference dataframe on expid\n",
    "members_expedition = pd.merge(members_expedition, reference, on='expid', how='left')"
   ]
  },
  {
   "cell_type": "code",
   "execution_count": 213,
   "id": "510e5f2b",
   "metadata": {},
   "outputs": [
    {
     "data": {
      "text/plain": [
       "(200037, 158)"
      ]
     },
     "execution_count": 213,
     "metadata": {},
     "output_type": "execute_result"
    }
   ],
   "source": [
    "members_expedition.shape"
   ]
  },
  {
   "cell_type": "code",
   "execution_count": 214,
   "id": "bb7e5eea",
   "metadata": {},
   "outputs": [],
   "source": [
    "# let's remove the columns that has more than 90% null values\n",
    "members_expedition = members_expedition.dropna(thresh=len(members_expedition) * 0.9, axis=1)"
   ]
  },
  {
   "cell_type": "code",
   "execution_count": 215,
   "id": "c744bec3",
   "metadata": {},
   "outputs": [
    {
     "data": {
      "text/plain": [
       "(200037, 107)"
      ]
     },
     "execution_count": 215,
     "metadata": {},
     "output_type": "execute_result"
    }
   ],
   "source": [
    "members_expedition.shape"
   ]
  },
  {
   "cell_type": "code",
   "execution_count": 216,
   "id": "ea5f3246",
   "metadata": {},
   "outputs": [
    {
     "data": {
      "text/plain": [
       "110948"
      ]
     },
     "execution_count": 216,
     "metadata": {},
     "output_type": "execute_result"
    }
   ],
   "source": [
    "# duplicate records\n",
    "members_expedition.duplicated().sum()"
   ]
  },
  {
   "cell_type": "code",
   "execution_count": 217,
   "id": "325c6c05",
   "metadata": {},
   "outputs": [
    {
     "data": {
      "text/plain": [
       "(89089, 107)"
      ]
     },
     "execution_count": 217,
     "metadata": {},
     "output_type": "execute_result"
    }
   ],
   "source": [
    "# lets remove the duplicate records\n",
    "members_expedition = members_expedition.drop_duplicates().reset_index(drop=True)\n",
    "members_expedition.shape"
   ]
  },
  {
   "cell_type": "code",
   "execution_count": 218,
   "id": "2fe18028",
   "metadata": {},
   "outputs": [
    {
     "data": {
      "text/plain": [
       "Index(['fname', 'lname', 'citizen', 'msmtterm', 'route1', 'leaders', 'sponsor',\n",
       "       'smtdate', 'campsites', 'location', 'pyear', 'pseason', 'pmonth',\n",
       "       'pday', 'pexpid', 'pcountry', 'psummiters'],\n",
       "      dtype='object')"
      ]
     },
     "execution_count": 218,
     "metadata": {},
     "output_type": "execute_result"
    }
   ],
   "source": [
    "# colums with null values\n",
    "members_expedition.columns[members_expedition.isnull().any()]"
   ]
  },
  {
   "cell_type": "code",
   "execution_count": 219,
   "id": "7af0e65f",
   "metadata": {},
   "outputs": [],
   "source": [
    "# let's fill the null values in the columns with \"not available\"\n",
    "members_expedition = members_expedition.fillna('not available')"
   ]
  },
  {
   "cell_type": "code",
   "execution_count": 220,
   "id": "f5d2c2a9",
   "metadata": {},
   "outputs": [
    {
     "data": {
      "text/plain": [
       "0"
      ]
     },
     "execution_count": 220,
     "metadata": {},
     "output_type": "execute_result"
    }
   ],
   "source": [
    "members_expedition.duplicated().sum()"
   ]
  },
  {
   "cell_type": "code",
   "execution_count": 221,
   "id": "77e354cd",
   "metadata": {},
   "outputs": [
    {
     "data": {
      "text/plain": [
       "Index([], dtype='object')"
      ]
     },
     "execution_count": 221,
     "metadata": {},
     "output_type": "execute_result"
    }
   ],
   "source": [
    "# colums with null values\n",
    "members_expedition.columns[members_expedition.isnull().any()]"
   ]
  },
  {
   "cell_type": "code",
   "execution_count": 222,
   "id": "e35bdc9c",
   "metadata": {},
   "outputs": [],
   "source": [
    "# lets check if values in peakid_x and peakid are same\n",
    "for i in range(len(members_expedition)):\n",
    "    if members_expedition['peakid_x'][i] != members_expedition['peakid'][i]:\n",
    "        print('Not same:', members_expedition['peakid_x'][i], members_expedition['peakid'][i])"
   ]
  },
  {
   "cell_type": "code",
   "execution_count": 223,
   "id": "4aeb6a5c",
   "metadata": {},
   "outputs": [],
   "source": [
    "# let's drop the peakid_x column\n",
    "members_expedition.drop(columns=['peakid_x'], inplace=True)"
   ]
  },
  {
   "cell_type": "code",
   "execution_count": 224,
   "id": "8db890f3",
   "metadata": {},
   "outputs": [
    {
     "data": {
      "text/plain": [
       "expid         object\n",
       "membid         int64\n",
       "myear          int64\n",
       "mseason       object\n",
       "fname         object\n",
       "lname         object\n",
       "sex           object\n",
       "citizen       object\n",
       "status        object\n",
       "leader          bool\n",
       "deputy          bool\n",
       "bconly          bool\n",
       "nottobc         bool\n",
       "support         bool\n",
       "disabled        bool\n",
       "hired           bool\n",
       "sherpa          bool\n",
       "tibetan         bool\n",
       "msuccess        bool\n",
       "mclaimed        bool\n",
       "mdisputed       bool\n",
       "msolo           bool\n",
       "mtraverse       bool\n",
       "mski            bool\n",
       "mparapente      bool\n",
       "mspeed          bool\n",
       "mhighpt         bool\n",
       "mroute1        int64\n",
       "mroute2        int64\n",
       "mroute3        int64\n",
       "mascent1       int64\n",
       "mascent2       int64\n",
       "mascent3       int64\n",
       "mo2used         bool\n",
       "mo2none         bool\n",
       "mo2climb        bool\n",
       "mo2descent      bool\n",
       "mo2sleep        bool\n",
       "mo2medical      bool\n",
       "death           bool\n",
       "deathhgtm      int64\n",
       "msmtbid       object\n",
       "msmtterm      object\n",
       "mchksum        int64\n",
       "year           int64\n",
       "season        object\n",
       "host          object\n",
       "route1        object\n",
       "nation        object\n",
       "leaders       object\n",
       "sponsor       object\n",
       "success1        bool\n",
       "success2        bool\n",
       "success3        bool\n",
       "success4        bool\n",
       "claimed         bool\n",
       "disputed        bool\n",
       "smtdate       object\n",
       "termreason    object\n",
       "highpoint      int64\n",
       "traverse        bool\n",
       "ski             bool\n",
       "parapente       bool\n",
       "camps          int64\n",
       "rope           int64\n",
       "totmembers     int64\n",
       "smtmembers     int64\n",
       "mdeaths        int64\n",
       "tothired       int64\n",
       "smthired       int64\n",
       "hdeaths        int64\n",
       "nohired         bool\n",
       "o2used          bool\n",
       "o2none          bool\n",
       "o2climb         bool\n",
       "o2descent       bool\n",
       "o2sleep         bool\n",
       "o2medical       bool\n",
       "o2taken         bool\n",
       "o2unkwn         bool\n",
       "campsites     object\n",
       "comrte          bool\n",
       "stdrte          bool\n",
       "primrte         bool\n",
       "primmem         bool\n",
       "primref         bool\n",
       "chksum         int64\n",
       "peakid        object\n",
       "pkname        object\n",
       "location      object\n",
       "heightm        int64\n",
       "heightf        int64\n",
       "himal         object\n",
       "region        object\n",
       "open            bool\n",
       "unlisted        bool\n",
       "trekking        bool\n",
       "phost         object\n",
       "pstatus       object\n",
       "pyear         object\n",
       "pseason       object\n",
       "pmonth        object\n",
       "pday          object\n",
       "pexpid        object\n",
       "pcountry      object\n",
       "psummiters    object\n",
       "dtype: object"
      ]
     },
     "execution_count": 224,
     "metadata": {},
     "output_type": "execute_result"
    }
   ],
   "source": [
    "members_expedition.dtypes"
   ]
  },
  {
   "cell_type": "code",
   "execution_count": 225,
   "id": "2ac74e05",
   "metadata": {},
   "outputs": [
    {
     "data": {
      "text/plain": [
       "Nepal                      20923\n",
       "USA                         7448\n",
       "Japan                       6604\n",
       "UK                          5818\n",
       "France                      5089\n",
       "Spain                       3598\n",
       "Germany                     3015\n",
       "S Korea                     3006\n",
       "Italy                       2937\n",
       "China                       2901\n",
       "Switzerland                 2656\n",
       "India                       2466\n",
       "Austria                     2275\n",
       "Russia                      1681\n",
       "Australia                   1641\n",
       "Poland                      1638\n",
       "Canada                      1350\n",
       "New Zealand                  853\n",
       "Netherlands                  844\n",
       "W Germany                    777\n",
       "Czech Republic               769\n",
       "Norway                       678\n",
       "Slovenia                     575\n",
       "Belgium                      505\n",
       "Yugoslavia                   493\n",
       "Ukraine                      459\n",
       "Iran                         454\n",
       "Sweden                       425\n",
       "Czechoslovakia               355\n",
       "Mexico                       350\n",
       "Ireland                      296\n",
       "Argentina                    283\n",
       "USSR                         271\n",
       "Romania                      267\n",
       "Denmark                      259\n",
       "Slovakia                     253\n",
       "Bulgaria                     247\n",
       "Brazil                       244\n",
       "Chile                        227\n",
       "Finland                      226\n",
       "S Africa                     214\n",
       "Hungary                      190\n",
       "Singapore                    173\n",
       "Greece                       170\n",
       "Malaysia                     170\n",
       "Kazakhstan                   162\n",
       "Ecuador                      159\n",
       "Taiwan                       137\n",
       "Georgia                      120\n",
       "Croatia                      117\n",
       "Israel                       102\n",
       "Portugal                      93\n",
       "Colombia                      88\n",
       "Indonesia                     86\n",
       "Serbia                        81\n",
       "Pakistan                      78\n",
       "Latvia                        71\n",
       "Iceland                       70\n",
       "Lithuania                     70\n",
       "UAE                           66\n",
       "Turkey                        59\n",
       "Thailand                      58\n",
       "Estonia                       56\n",
       "Peru                          55\n",
       "Venezuela                     48\n",
       "Mongolia                      45\n",
       "Andorra                       45\n",
       "Belarus                       44\n",
       "Philippines                   42\n",
       "Bangladesh                    41\n",
       "Kyrgyz Republic               40\n",
       "Uzbekistan                    37\n",
       "Bahrain                       30\n",
       "Macedonia                     27\n",
       "Luxembourg                    26\n",
       "USA/Canada                    22\n",
       "Lebanon                       21\n",
       "UK/Nepal                      20\n",
       "Kosovo                        19\n",
       "Australia/New Zealand         18\n",
       "Ireland/UK                    18\n",
       "Qatar                         18\n",
       "Malta                         18\n",
       "Kenya                         17\n",
       "Bosnia-Herzegovina            17\n",
       "Morocco                       16\n",
       "Vietnam                       16\n",
       "Hong Kong                     16\n",
       "Kuwait                        15\n",
       "Guatemala                     15\n",
       "Costa Rica                    14\n",
       "USA/Switzerland               13\n",
       "USA/Brazil                    12\n",
       "Nepal/Australia               12\n",
       "Turkey/USA                    12\n",
       "USA/UK                        11\n",
       "USA/Ukraine                   11\n",
       "Montenegro                    11\n",
       "Myanmar                       11\n",
       "Jordan                        11\n",
       "Azerbaijan/Russia             10\n",
       "Oman                          10\n",
       "UK/Australia                   9\n",
       "Cyprus                         9\n",
       "Bolivia                        9\n",
       "Uruguay                        9\n",
       "USA/Poland                     8\n",
       "Moldova                        8\n",
       "UK/Argentina                   8\n",
       "UK/Spain                       8\n",
       "Iraq                           8\n",
       "UK/Iran                        8\n",
       "Colombia/USA                   8\n",
       "Sri Lanka                      7\n",
       "W Germany/Iran                 7\n",
       "Albania                        7\n",
       "USA/Russia                     7\n",
       "USA/Iran                       7\n",
       "not available                  7\n",
       "Algeria                        7\n",
       "Liechtenstein                  7\n",
       "Nepal/India                    6\n",
       "Dominican Republic             6\n",
       "UK/Russia                      6\n",
       "Switzerland/France             6\n",
       "UK/USA                         6\n",
       "Azerbaijan                     6\n",
       "Denmark/Australia              6\n",
       "Saudi Arabia                   6\n",
       "USA/Romania                    6\n",
       "Canada/Russia                  6\n",
       "Bosnia-Herzegovina/USA         5\n",
       "USA/Jamaica                    5\n",
       "San Marino                     5\n",
       "Mauritius                      5\n",
       "Australia/Sweden               5\n",
       "New Zealand/Australia          5\n",
       "USA/Pakistan                   5\n",
       "USA/Ireland                    4\n",
       "France/Switzerland             4\n",
       "Ecuador/Germany                4\n",
       "India/Nepal                    4\n",
       "S Africa/Zambia                4\n",
       "Italy/Slovenia                 4\n",
       "Egypt                          4\n",
       "Spain/USA                      4\n",
       "Nepal/India?                   4\n",
       "El Salvador                    3\n",
       "USA/Germany                    3\n",
       "Panama                         3\n",
       "Spain/Venezuela                3\n",
       "UK/India                       3\n",
       "Russia/Ukraine                 3\n",
       "Spain/Brazil                   3\n",
       "USA/India                      3\n",
       "Armenia                        3\n",
       "UK/New Zealand                 3\n",
       "UK/S Africa                    3\n",
       "Bhutan                         3\n",
       "Slovakia/USA                   3\n",
       "Norway/Denmark                 3\n",
       "Afghanistan                    3\n",
       "Palestine                      3\n",
       "France/USA                     3\n",
       "Nepal/USA                      3\n",
       "Cyprus/Russia                  3\n",
       "UK/Sri Lanka                   3\n",
       "Canada/USA                     3\n",
       "India?                         3\n",
       "USA/Colombia                   3\n",
       "USA/Ecuador                    3\n",
       "Australia/S Africa             2\n",
       "Germany/Iran                   2\n",
       "USA/Ethiopia                   2\n",
       "Switzerland/USA                2\n",
       "Kyrgyz Republic/Russia         2\n",
       "UK/Jordan                      2\n",
       "S Africa/Ukraine               2\n",
       "Cuba                           2\n",
       "Canada/Portugal                2\n",
       "Russia/USA                     2\n",
       "Germany/UK                     2\n",
       "Switzerland/UK                 2\n",
       "Honduras                       2\n",
       "UK/Lebanon                     2\n",
       "Lithuania/USA                  2\n",
       "Italy/USA                      2\n",
       "China/USA                      2\n",
       "Canada/Ireland                 2\n",
       "Canada/Macedonia               2\n",
       "USA/China                      2\n",
       "Tunisia                        2\n",
       "Argentina/Canada               2\n",
       "Australia/Ireland              2\n",
       "Singapore/Malaysia             2\n",
       "UK/Canada                      2\n",
       "Tanzania                       2\n",
       "New Zealand/UK                 1\n",
       "Poland/Canada                  1\n",
       "UK/Germany                     1\n",
       "USA/Latvia                     1\n",
       "Ukraine/Azerbaijan             1\n",
       "France/Algeria                 1\n",
       "Afghanistan/USA                1\n",
       "France/Luxembourg              1\n",
       "Saudi Arabia/USA               1\n",
       "Dominica                       1\n",
       "UK/Hong Kong                   1\n",
       "UK/Bangladesh                  1\n",
       "Japan/China                    1\n",
       "Macedonia/Australia            1\n",
       "USA/Dominican Republic         1\n",
       "Canada/UK                      1\n",
       "China/Japan                    1\n",
       "N Korea                        1\n",
       "Austria/Brazil                 1\n",
       "USA/Israel                     1\n",
       "UK/Italy                       1\n",
       "USA/Austria                    1\n",
       "Switzerland/Greece             1\n",
       "Australia/Greece               1\n",
       "UK/Switzerland                 1\n",
       "Chile/Sweden                   1\n",
       "USA/UKraine                    1\n",
       "Romania/USA                    1\n",
       "Germany/Switzerland            1\n",
       "Hungary/Romania                1\n",
       "Syria                          1\n",
       "UK/Iceland                     1\n",
       "Poland/USA                     1\n",
       "Botswana                       1\n",
       "Serbia/Jordan                  1\n",
       "Netherlands/Switzerland        1\n",
       "UK/Kenya                       1\n",
       "Mongolia/Australia             1\n",
       "Germany/S Africa               1\n",
       "S Africa/Portugal              1\n",
       "USA/Lativa                     1\n",
       "UK/Egypt                       1\n",
       "USA/New Zealand                1\n",
       "Tajikistan                     1\n",
       "Australia/UK                   1\n",
       "Egypt/UK                       1\n",
       "Australia/USA                  1\n",
       "Nepal/Canada                   1\n",
       "S Africa/UK                    1\n",
       "Libya                          1\n",
       "USA/Cuba                       1\n",
       "Switzerland/Germany            1\n",
       "Turkmenistan                   1\n",
       "Malaysi                        1\n",
       "Paraguay/Germany               1\n",
       "Germany/USA                    1\n",
       "Name: citizen, dtype: int64"
      ]
     },
     "execution_count": 225,
     "metadata": {},
     "output_type": "execute_result"
    }
   ],
   "source": [
    "members_expedition['citizen'].value_counts()"
   ]
  },
  {
   "cell_type": "code",
   "execution_count": 226,
   "id": "6b62bdfe",
   "metadata": {},
   "outputs": [],
   "source": [
    "import re\n",
    "\n",
    "# Standardize 'citizen' values by sorting country names and removing special characters\n",
    "def standardize_citizen(val):\n",
    "    # Remove special characters except for alphabets, numbers, spaces, and '/'\n",
    "    val = re.sub(r'[^A-Za-z0-9/ ]+', '', val)\n",
    "    # Split by '/', sort, and join back if multiple countries\n",
    "    if '/' in val:\n",
    "        countries = [c.strip() for c in val.split('/')]\n",
    "        countries = sorted(set(countries))\n",
    "        return '/'.join(countries)\n",
    "    return val.strip()\n",
    "\n",
    "members_expedition['citizen'] = members_expedition['citizen'].apply(standardize_citizen)"
   ]
  },
  {
   "cell_type": "code",
   "execution_count": 227,
   "id": "ddaca295",
   "metadata": {},
   "outputs": [],
   "source": [
    "# Still there are some inconsistencies in the 'citizen' column which need to be fixed like below\n",
    "members_expedition['citizen'] = members_expedition['citizen'].replace({'Nepal/India': 'India/Nepal', 'Nepal/India?': 'India/Nepal',\n",
    "                                                                       'India?': 'India', 'W Germany': 'Germany',\n",
    "                                                                       'Malaysi': 'Malaysia',\n",
    "                                                                       'Iran/W Germany': 'Germany/Iran',\n",
    "                                                                       'Lativa/USA': 'Latvia/USA'})"
   ]
  },
  {
   "cell_type": "code",
   "execution_count": null,
   "id": "c4acb623",
   "metadata": {},
   "outputs": [],
   "source": []
  },
  {
   "cell_type": "code",
   "execution_count": 228,
   "id": "766ce526",
   "metadata": {},
   "outputs": [],
   "source": [
    "# now that we have cleaned the data, let's save the cleaned data to a csv file\n",
    "# members_expedition.to_csv('E:\\Maven_Analytics_Challenges\\Everest_Challenge\\HimalayanExpeditions\\members_expedition.csv', index=False)"
   ]
  }
 ],
 "metadata": {
  "kernelspec": {
   "display_name": "Deep_Learning",
   "language": "python",
   "name": "python3"
  },
  "language_info": {
   "codemirror_mode": {
    "name": "ipython",
    "version": 3
   },
   "file_extension": ".py",
   "mimetype": "text/x-python",
   "name": "python",
   "nbconvert_exporter": "python",
   "pygments_lexer": "ipython3",
   "version": "3.9.18"
  }
 },
 "nbformat": 4,
 "nbformat_minor": 5
}
