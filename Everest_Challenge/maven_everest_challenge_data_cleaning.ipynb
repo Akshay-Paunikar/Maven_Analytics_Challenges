{
 "cells": [
  {
   "cell_type": "markdown",
   "id": "30864c7e",
   "metadata": {},
   "source": [
    "### Maven Everest Challenge\n",
    "\n",
    "Use data storytelling to visualize the evolution of mankind's pursuit of the world's highest peak.\n",
    "\n",
    "#### Challenge Objective:\n",
    "\n",
    "For the Maven Everest Challenge, you’ll play the role of a data journalist tasked with telling the story of mankind’s quest to conquer Mount Everest. Using real expedition data, your goal is to craft a compelling visual narrative that highlights things like key milestones, shifting strategies, and the climbers who dared to reach the top of the world.\n",
    "\n",
    "#### About The Data Set:\n",
    "\n",
    "This dataset, based on the archives of Elizabeth Hawley, provides a comprehensive record of mountaineering expeditions in the Nepalese Himalaya, spanning from 1905 to 2024. It includes detailed information on 89,000+ members across 11,000+ expeditions and 480 mountain peaks, including dates, successes, and significant events."
   ]
  },
  {
   "cell_type": "code",
   "execution_count": 228,
   "id": "4648773c",
   "metadata": {},
   "outputs": [],
   "source": [
    "# importing libraries\n",
    "import numpy as np\n",
    "import pandas as pd\n",
    "import matplotlib.pyplot as plt\n",
    "%matplotlib inline\n",
    "import seaborn as sns\n",
    "import warnings\n",
    "warnings.filterwarnings('ignore')\n",
    "\n",
    "# show full output\n",
    "pd.set_option('display.max_columns', 1000)\n",
    "pd.set_option('display.max_rows', 1000)"
   ]
  },
  {
   "cell_type": "code",
   "execution_count": 229,
   "id": "ffa1deef",
   "metadata": {},
   "outputs": [],
   "source": [
    "# read all the datasets\n",
    "expedition = pd.read_csv('E:\\Maven_Analytics_Challenges\\Everest_Challenge\\HimalayanExpeditions\\exped.csv')\n",
    "members = pd.read_csv('E:\\Maven_Analytics_Challenges\\Everest_Challenge\\HimalayanExpeditions\\members.csv')\n",
    "peaks = pd.read_csv('E:\\Maven_Analytics_Challenges\\Everest_Challenge\\HimalayanExpeditions\\peaks.csv')\n",
    "# reference = pd.read_csv('E:\\\\Maven_Analytics_Challenges\\\\Everest_Challenge\\\\HimalayanExpeditions\\\\refer.csv', encoding=\"ISO-8859-1\")"
   ]
  },
  {
   "cell_type": "code",
   "execution_count": 230,
   "id": "cdbe066b",
   "metadata": {},
   "outputs": [
    {
     "name": "stdout",
     "output_type": "stream",
     "text": [
      "Expedition shape: (11425, 65)\n",
      "Members shape: (89000, 61)\n",
      "Peaks shape: (480, 23)\n"
     ]
    }
   ],
   "source": [
    "print('Expedition shape:', expedition.shape)\n",
    "print('Members shape:', members.shape)\n",
    "print('Peaks shape:', peaks.shape)\n",
    "# print('Reference shape:', reference.shape) \n",
    "# we will not use this dataset since I don't want to cite media trends and do not want to enrich a specific expedition story)"
   ]
  },
  {
   "cell_type": "code",
   "execution_count": 231,
   "id": "42d6e2d9",
   "metadata": {},
   "outputs": [],
   "source": [
    "# Expedition columns\n",
    "exped_cols = [\n",
    "    'expid', 'peakid', 'year', 'season', 'route1', 'nation', 'leaders',\n",
    "    'sponsor', 'success1', 'claimed', 'disputed', 'smtdate', 'smtdays',\n",
    "    'totdays', 'termreason', 'accidents', 'achievment', 'o2used',\n",
    "    'ski', 'parapente', 'traverse', 'tothired', 'smthired',\n",
    "    'totmembers', 'smtmembers', 'mdeaths', 'hdeaths',\n",
    "    'comrte', 'stdrte']\n",
    "\n",
    "# Member columns\n",
    "members_cols = [\n",
    "    'expid', 'membid', 'peakid', 'myear', 'mseason', 'fname', 'lname',\n",
    "    'sex', 'yob', 'citizen', 'leader', 'hired', 'sherpa',\n",
    "    'msuccess', 'mclaimed', 'mdisputed', 'msolo', 'mtraverse',\n",
    "    'mski', 'mparapente', 'mspeed', 'mo2used', 'mo2climb',\n",
    "    'mo2sleep', 'death', 'deathdate', 'deathtype']\n",
    "\n",
    "# Peak columns\n",
    "peaks_cols = [\n",
    "    'peakid', 'pkname', 'pkname2', 'heightm', 'location',\n",
    "    'himal', 'region', 'open', 'restrict', 'pyear',\n",
    "    'pcountry', 'psummiters']\n",
    "\n",
    "# Filter columns\n",
    "expedition = expedition[exped_cols]\n",
    "members = members[members_cols]\n",
    "peaks = peaks[peaks_cols]"
   ]
  },
  {
   "cell_type": "code",
   "execution_count": 232,
   "id": "3dc5c94f",
   "metadata": {},
   "outputs": [],
   "source": [
    "# let's join the members and expedition dataframes on expid\n",
    "members_expedition = pd.merge(members, expedition, on='expid', how='left')"
   ]
  },
  {
   "cell_type": "code",
   "execution_count": 233,
   "id": "d26cc018",
   "metadata": {},
   "outputs": [
    {
     "data": {
      "text/plain": [
       "(89089, 55)"
      ]
     },
     "execution_count": 233,
     "metadata": {},
     "output_type": "execute_result"
    }
   ],
   "source": [
    "members_expedition.shape"
   ]
  },
  {
   "cell_type": "code",
   "execution_count": 234,
   "id": "04b0bf0c",
   "metadata": {},
   "outputs": [],
   "source": [
    "# lets check if values in peakid_x and peakid_y are same\n",
    "for i in range(len(members_expedition)):\n",
    "    if members_expedition['peakid_x'][i] != members_expedition['peakid_y'][i]:\n",
    "        print('Not same:', members_expedition['peakid_x'][i], members_expedition['peakid_y'][i])"
   ]
  },
  {
   "cell_type": "code",
   "execution_count": 235,
   "id": "80a42582",
   "metadata": {},
   "outputs": [],
   "source": [
    "# drop the column peakid_y\n",
    "members_expedition.drop(columns=['peakid_y'], inplace=True)"
   ]
  },
  {
   "cell_type": "code",
   "execution_count": 236,
   "id": "046a4c48",
   "metadata": {},
   "outputs": [],
   "source": [
    "# now let's join the members_expedition dataframe with the peaks dataframe on peakid\n",
    "everest_data = pd.merge(members_expedition, peaks, left_on='peakid_x', right_on='peakid', how='left')"
   ]
  },
  {
   "cell_type": "code",
   "execution_count": 237,
   "id": "16a1a200",
   "metadata": {},
   "outputs": [
    {
     "data": {
      "text/plain": [
       "(89089, 66)"
      ]
     },
     "execution_count": 237,
     "metadata": {},
     "output_type": "execute_result"
    }
   ],
   "source": [
    "everest_data.shape"
   ]
  },
  {
   "cell_type": "code",
   "execution_count": 238,
   "id": "b5b7c3d9",
   "metadata": {},
   "outputs": [
    {
     "data": {
      "text/plain": [
       "expid             0\n",
       "membid            0\n",
       "peakid_x          0\n",
       "myear             0\n",
       "mseason           0\n",
       "fname           104\n",
       "lname          1125\n",
       "sex               0\n",
       "yob            5424\n",
       "citizen           7\n",
       "leader            0\n",
       "hired             0\n",
       "sherpa            0\n",
       "msuccess          0\n",
       "mclaimed          0\n",
       "mdisputed         0\n",
       "msolo             0\n",
       "mtraverse         0\n",
       "mski              0\n",
       "mparapente        0\n",
       "mspeed            0\n",
       "mo2used           0\n",
       "mo2climb          0\n",
       "mo2sleep          0\n",
       "death             0\n",
       "deathdate     87944\n",
       "deathtype     87918\n",
       "year              0\n",
       "season            0\n",
       "route1          648\n",
       "nation            0\n",
       "leaders          19\n",
       "sponsor        3960\n",
       "success1          0\n",
       "claimed           0\n",
       "disputed          0\n",
       "smtdate        3291\n",
       "smtdays       14147\n",
       "totdays       26166\n",
       "termreason        0\n",
       "accidents     59138\n",
       "achievment    80786\n",
       "o2used            0\n",
       "ski               0\n",
       "parapente         0\n",
       "traverse          0\n",
       "tothired          0\n",
       "smthired          0\n",
       "totmembers        0\n",
       "smtmembers        0\n",
       "mdeaths           0\n",
       "hdeaths           0\n",
       "comrte            0\n",
       "stdrte            0\n",
       "peakid            0\n",
       "pkname            0\n",
       "pkname2       35293\n",
       "heightm           0\n",
       "location          3\n",
       "himal             0\n",
       "region            0\n",
       "open              0\n",
       "restrict      83967\n",
       "pyear           582\n",
       "pcountry        582\n",
       "psummiters       66\n",
       "dtype: int64"
      ]
     },
     "execution_count": 238,
     "metadata": {},
     "output_type": "execute_result"
    }
   ],
   "source": [
    "everest_data.isnull().sum()"
   ]
  },
  {
   "cell_type": "code",
   "execution_count": 239,
   "id": "bb7e5eea",
   "metadata": {},
   "outputs": [],
   "source": [
    "# let's remove the columns that has more than 90% null values\n",
    "everest_data = everest_data.dropna(thresh=len(everest_data) * 0.9, axis=1)"
   ]
  },
  {
   "cell_type": "code",
   "execution_count": 240,
   "id": "e3f2dd27",
   "metadata": {},
   "outputs": [
    {
     "data": {
      "text/plain": [
       "80180.1"
      ]
     },
     "execution_count": 240,
     "metadata": {},
     "output_type": "execute_result"
    }
   ],
   "source": [
    "len(everest_data) * 0.9"
   ]
  },
  {
   "cell_type": "code",
   "execution_count": 241,
   "id": "c744bec3",
   "metadata": {},
   "outputs": [
    {
     "data": {
      "text/plain": [
       "(89089, 58)"
      ]
     },
     "execution_count": 241,
     "metadata": {},
     "output_type": "execute_result"
    }
   ],
   "source": [
    "everest_data.shape"
   ]
  },
  {
   "cell_type": "code",
   "execution_count": 242,
   "id": "ea5f3246",
   "metadata": {},
   "outputs": [
    {
     "data": {
      "text/plain": [
       "0"
      ]
     },
     "execution_count": 242,
     "metadata": {},
     "output_type": "execute_result"
    }
   ],
   "source": [
    "# duplicate records\n",
    "everest_data.duplicated().sum()"
   ]
  },
  {
   "cell_type": "code",
   "execution_count": 243,
   "id": "2fe18028",
   "metadata": {},
   "outputs": [
    {
     "data": {
      "text/plain": [
       "Index(['fname', 'lname', 'yob', 'citizen', 'route1', 'leaders', 'sponsor',\n",
       "       'smtdate', 'location', 'pyear', 'pcountry', 'psummiters'],\n",
       "      dtype='object')"
      ]
     },
     "execution_count": 243,
     "metadata": {},
     "output_type": "execute_result"
    }
   ],
   "source": [
    "# colums with null values\n",
    "everest_data.columns[everest_data.isnull().any()]"
   ]
  },
  {
   "cell_type": "code",
   "execution_count": 244,
   "id": "7af0e65f",
   "metadata": {},
   "outputs": [],
   "source": [
    "# let's fill the null values in the columns with \"not available\"\n",
    "everest_data = everest_data.fillna('not available')"
   ]
  },
  {
   "cell_type": "code",
   "execution_count": 245,
   "id": "f5d2c2a9",
   "metadata": {},
   "outputs": [
    {
     "data": {
      "text/plain": [
       "0"
      ]
     },
     "execution_count": 245,
     "metadata": {},
     "output_type": "execute_result"
    }
   ],
   "source": [
    "everest_data.duplicated().sum()"
   ]
  },
  {
   "cell_type": "code",
   "execution_count": 246,
   "id": "77e354cd",
   "metadata": {},
   "outputs": [
    {
     "data": {
      "text/plain": [
       "Index([], dtype='object')"
      ]
     },
     "execution_count": 246,
     "metadata": {},
     "output_type": "execute_result"
    }
   ],
   "source": [
    "# colums with null values\n",
    "everest_data.columns[everest_data.isnull().any()]"
   ]
  },
  {
   "cell_type": "code",
   "execution_count": 247,
   "id": "e35bdc9c",
   "metadata": {},
   "outputs": [],
   "source": [
    "# lets check if values in peakid_x and peakid are same\n",
    "for i in range(len(everest_data)):\n",
    "    if everest_data['peakid_x'][i] != everest_data['peakid'][i]:\n",
    "        print('Not same:', everest_data['peakid_x'][i], everest_data['peakid'][i])"
   ]
  },
  {
   "cell_type": "code",
   "execution_count": 248,
   "id": "4e6b6867",
   "metadata": {},
   "outputs": [],
   "source": [
    "# lets check if values in mseason and season are same\n",
    "for i in range(len(everest_data)):\n",
    "    if everest_data['mseason'][i] != everest_data['season'][i]:\n",
    "        print('Not same:', everest_data['mseason'][i], everest_data['season'][i])"
   ]
  },
  {
   "cell_type": "code",
   "execution_count": 249,
   "id": "4aeb6a5c",
   "metadata": {},
   "outputs": [],
   "source": [
    "# let's drop the peakid_x column\n",
    "everest_data.drop(columns=['peakid_x', 'mseason'], inplace=True)"
   ]
  },
  {
   "cell_type": "code",
   "execution_count": 250,
   "id": "8db890f3",
   "metadata": {},
   "outputs": [
    {
     "data": {
      "text/plain": [
       "expid         object\n",
       "membid         int64\n",
       "myear          int64\n",
       "fname         object\n",
       "lname         object\n",
       "sex           object\n",
       "yob           object\n",
       "citizen       object\n",
       "leader          bool\n",
       "hired           bool\n",
       "sherpa          bool\n",
       "msuccess        bool\n",
       "mclaimed        bool\n",
       "mdisputed       bool\n",
       "msolo           bool\n",
       "mtraverse       bool\n",
       "mski            bool\n",
       "mparapente      bool\n",
       "mspeed          bool\n",
       "mo2used         bool\n",
       "mo2climb        bool\n",
       "mo2sleep        bool\n",
       "death           bool\n",
       "year           int64\n",
       "season        object\n",
       "route1        object\n",
       "nation        object\n",
       "leaders       object\n",
       "sponsor       object\n",
       "success1        bool\n",
       "claimed         bool\n",
       "disputed        bool\n",
       "smtdate       object\n",
       "termreason    object\n",
       "o2used          bool\n",
       "ski             bool\n",
       "parapente       bool\n",
       "traverse        bool\n",
       "tothired       int64\n",
       "smthired       int64\n",
       "totmembers     int64\n",
       "smtmembers     int64\n",
       "mdeaths        int64\n",
       "hdeaths        int64\n",
       "comrte          bool\n",
       "stdrte          bool\n",
       "peakid        object\n",
       "pkname        object\n",
       "heightm        int64\n",
       "location      object\n",
       "himal         object\n",
       "region        object\n",
       "open            bool\n",
       "pyear         object\n",
       "pcountry      object\n",
       "psummiters    object\n",
       "dtype: object"
      ]
     },
     "execution_count": 250,
     "metadata": {},
     "output_type": "execute_result"
    }
   ],
   "source": [
    "everest_data.dtypes"
   ]
  },
  {
   "cell_type": "code",
   "execution_count": 251,
   "id": "6b62bdfe",
   "metadata": {},
   "outputs": [],
   "source": [
    "import re\n",
    "\n",
    "# Standardize 'citizen' values by sorting country names and removing special characters\n",
    "def standardize_citizen(val):\n",
    "    # Remove special characters except for alphabets, numbers, spaces, and '/'\n",
    "    val = re.sub(r'[^A-Za-z0-9/ ]+', '', val)\n",
    "    # Split by '/', sort, and join back if multiple countries\n",
    "    if '/' in val:\n",
    "        countries = [c.strip() for c in val.split('/')]\n",
    "        countries = sorted(set(countries))\n",
    "        return '/'.join(countries)\n",
    "    return val.strip()\n",
    "\n",
    "everest_data['citizen'] = everest_data['citizen'].apply(standardize_citizen)"
   ]
  },
  {
   "cell_type": "code",
   "execution_count": 252,
   "id": "ddaca295",
   "metadata": {},
   "outputs": [],
   "source": [
    "# Still there are some inconsistencies in the 'citizen' column which need to be fixed like below\n",
    "everest_data['citizen'] = everest_data['citizen'].replace({'Nepal/India': 'India/Nepal', 'Nepal/India?': 'India/Nepal',\n",
    "                                                                       'India?': 'India', 'W Germany': 'Germany',\n",
    "                                                                       'Malaysi': 'Malaysia',\n",
    "                                                                       'Iran/W Germany': 'Germany/Iran',\n",
    "                                                                       'Lativa/USA': 'Latvia/USA'})"
   ]
  },
  {
   "cell_type": "code",
   "execution_count": 253,
   "id": "e65dfac5",
   "metadata": {},
   "outputs": [],
   "source": [
    "drop_columns = ['phost', 'unlisted', 'trekking', 'trekyear', 'pexpid', 'msmtdate2', 'msmtdate3', 'msmttime2', 'mo2note', 'occupation', \n",
    "                'residence', 'hcn', 'mchksum', 'route2', 'route4']\n",
    "\n",
    "for i in drop_columns:\n",
    "    if i in everest_data.columns:\n",
    "        everest_data.drop(columns=[i], inplace=True)"
   ]
  },
  {
   "cell_type": "code",
   "execution_count": 254,
   "id": "2c71107a",
   "metadata": {},
   "outputs": [
    {
     "data": {
      "text/plain": [
       "(89089, 56)"
      ]
     },
     "execution_count": 254,
     "metadata": {},
     "output_type": "execute_result"
    }
   ],
   "source": [
    "everest_data.shape"
   ]
  },
  {
   "cell_type": "code",
   "execution_count": 255,
   "id": "766ce526",
   "metadata": {},
   "outputs": [],
   "source": [
    "# now that we have cleaned the data, let's save the cleaned data to a csv file\n",
    "everest_data.to_csv('E:\\Maven_Analytics_Challenges\\Everest_Challenge\\HimalayanExpeditions\\everest_data.csv', index=False)"
   ]
  }
 ],
 "metadata": {
  "kernelspec": {
   "display_name": "Deep_Learning",
   "language": "python",
   "name": "python3"
  },
  "language_info": {
   "codemirror_mode": {
    "name": "ipython",
    "version": 3
   },
   "file_extension": ".py",
   "mimetype": "text/x-python",
   "name": "python",
   "nbconvert_exporter": "python",
   "pygments_lexer": "ipython3",
   "version": "3.9.18"
  }
 },
 "nbformat": 4,
 "nbformat_minor": 5
}
