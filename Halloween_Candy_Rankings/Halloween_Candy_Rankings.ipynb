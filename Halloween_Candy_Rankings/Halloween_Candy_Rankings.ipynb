{
 "cells": [
  {
   "cell_type": "markdown",
   "metadata": {},
   "source": [
    "<h3>Maven Analytics: Halloween Candy Rankings Challenge</h3>"
   ]
  },
  {
   "cell_type": "code",
   "execution_count": 53,
   "metadata": {},
   "outputs": [],
   "source": [
    "# import libraries\n",
    "import numpy as np\n",
    "import pandas as pd\n",
    "import matplotlib.pyplot as plt\n",
    "%matplotlib inline\n",
    "import seaborn as sns"
   ]
  },
  {
   "cell_type": "code",
   "execution_count": 54,
   "metadata": {},
   "outputs": [
    {
     "data": {
      "text/plain": [
       "(85, 13)"
      ]
     },
     "execution_count": 54,
     "metadata": {},
     "output_type": "execute_result"
    }
   ],
   "source": [
    "# read the dataset\n",
    "data = pd.read_csv(\"Halloween_Candy_Rankings/candy-data.csv\")\n",
    "data.shape"
   ]
  },
  {
   "cell_type": "code",
   "execution_count": 55,
   "metadata": {},
   "outputs": [
    {
     "data": {
      "text/html": [
       "<div>\n",
       "<style scoped>\n",
       "    .dataframe tbody tr th:only-of-type {\n",
       "        vertical-align: middle;\n",
       "    }\n",
       "\n",
       "    .dataframe tbody tr th {\n",
       "        vertical-align: top;\n",
       "    }\n",
       "\n",
       "    .dataframe thead th {\n",
       "        text-align: right;\n",
       "    }\n",
       "</style>\n",
       "<table border=\"1\" class=\"dataframe\">\n",
       "  <thead>\n",
       "    <tr style=\"text-align: right;\">\n",
       "      <th></th>\n",
       "      <th>competitorname</th>\n",
       "      <th>chocolate</th>\n",
       "      <th>fruity</th>\n",
       "      <th>caramel</th>\n",
       "      <th>peanutyalmondy</th>\n",
       "      <th>nougat</th>\n",
       "      <th>crispedricewafer</th>\n",
       "      <th>hard</th>\n",
       "      <th>bar</th>\n",
       "      <th>pluribus</th>\n",
       "      <th>sugarpercent</th>\n",
       "      <th>pricepercent</th>\n",
       "      <th>winpercent</th>\n",
       "    </tr>\n",
       "  </thead>\n",
       "  <tbody>\n",
       "    <tr>\n",
       "      <th>0</th>\n",
       "      <td>100 Grand</td>\n",
       "      <td>1</td>\n",
       "      <td>0</td>\n",
       "      <td>1</td>\n",
       "      <td>0</td>\n",
       "      <td>0</td>\n",
       "      <td>1</td>\n",
       "      <td>0</td>\n",
       "      <td>1</td>\n",
       "      <td>0</td>\n",
       "      <td>0.732</td>\n",
       "      <td>0.860</td>\n",
       "      <td>66.971725</td>\n",
       "    </tr>\n",
       "    <tr>\n",
       "      <th>1</th>\n",
       "      <td>3 Musketeers</td>\n",
       "      <td>1</td>\n",
       "      <td>0</td>\n",
       "      <td>0</td>\n",
       "      <td>0</td>\n",
       "      <td>1</td>\n",
       "      <td>0</td>\n",
       "      <td>0</td>\n",
       "      <td>1</td>\n",
       "      <td>0</td>\n",
       "      <td>0.604</td>\n",
       "      <td>0.511</td>\n",
       "      <td>67.602936</td>\n",
       "    </tr>\n",
       "    <tr>\n",
       "      <th>2</th>\n",
       "      <td>One dime</td>\n",
       "      <td>0</td>\n",
       "      <td>0</td>\n",
       "      <td>0</td>\n",
       "      <td>0</td>\n",
       "      <td>0</td>\n",
       "      <td>0</td>\n",
       "      <td>0</td>\n",
       "      <td>0</td>\n",
       "      <td>0</td>\n",
       "      <td>0.011</td>\n",
       "      <td>0.116</td>\n",
       "      <td>32.261086</td>\n",
       "    </tr>\n",
       "    <tr>\n",
       "      <th>3</th>\n",
       "      <td>One quarter</td>\n",
       "      <td>0</td>\n",
       "      <td>0</td>\n",
       "      <td>0</td>\n",
       "      <td>0</td>\n",
       "      <td>0</td>\n",
       "      <td>0</td>\n",
       "      <td>0</td>\n",
       "      <td>0</td>\n",
       "      <td>0</td>\n",
       "      <td>0.011</td>\n",
       "      <td>0.511</td>\n",
       "      <td>46.116505</td>\n",
       "    </tr>\n",
       "    <tr>\n",
       "      <th>4</th>\n",
       "      <td>Air Heads</td>\n",
       "      <td>0</td>\n",
       "      <td>1</td>\n",
       "      <td>0</td>\n",
       "      <td>0</td>\n",
       "      <td>0</td>\n",
       "      <td>0</td>\n",
       "      <td>0</td>\n",
       "      <td>0</td>\n",
       "      <td>0</td>\n",
       "      <td>0.906</td>\n",
       "      <td>0.511</td>\n",
       "      <td>52.341465</td>\n",
       "    </tr>\n",
       "  </tbody>\n",
       "</table>\n",
       "</div>"
      ],
      "text/plain": [
       "  competitorname  chocolate  fruity  caramel  peanutyalmondy  nougat  \\\n",
       "0      100 Grand          1       0        1               0       0   \n",
       "1   3 Musketeers          1       0        0               0       1   \n",
       "2       One dime          0       0        0               0       0   \n",
       "3    One quarter          0       0        0               0       0   \n",
       "4      Air Heads          0       1        0               0       0   \n",
       "\n",
       "   crispedricewafer  hard  bar  pluribus  sugarpercent  pricepercent  \\\n",
       "0                 1     0    1         0         0.732         0.860   \n",
       "1                 0     0    1         0         0.604         0.511   \n",
       "2                 0     0    0         0         0.011         0.116   \n",
       "3                 0     0    0         0         0.011         0.511   \n",
       "4                 0     0    0         0         0.906         0.511   \n",
       "\n",
       "   winpercent  \n",
       "0   66.971725  \n",
       "1   67.602936  \n",
       "2   32.261086  \n",
       "3   46.116505  \n",
       "4   52.341465  "
      ]
     },
     "execution_count": 55,
     "metadata": {},
     "output_type": "execute_result"
    }
   ],
   "source": [
    "# check the records\n",
    "data.head()"
   ]
  },
  {
   "cell_type": "markdown",
   "metadata": {},
   "source": [
    "<b>Data Dictionary:</b>\n",
    "\n",
    " - <b>competitorname:</b> The name of the candy\n",
    " - <b>chocolate:</b> Does it contain chocolate?\n",
    " - <b>fruity:</b> Is it fruit flavored?\n",
    " - <b>caramel:</b> Is there caramel in the candy?\n",
    " - <b>peanutalmondy:</b> Does it contain peanuts, peanut butter or almonds?\n",
    " - <b>nougat:</b> Does it contain nougat?\n",
    " - <b>crispedricewafer:</b> Does it contain crisped rice, wafers, or a cookie component?\n",
    " - <b>hard:</b> Is it a hard candy?\n",
    " - <b>bar:</b> Is it a candy bar?\n",
    " - <b>pluribus:</b> Is it one of many candies in a bag or box?\n",
    " - <b>sugarpercent:</b> The percentile of sugar it falls under within the data set\n",
    " - <b>pricepercent:</b> The unit price percentile compared to the rest of the set\n",
    " - <b>winpercent:</b> The overall win percentage according to 269,000 matchups"
   ]
  },
  {
   "cell_type": "code",
   "execution_count": 56,
   "metadata": {},
   "outputs": [
    {
     "data": {
      "text/plain": [
       "competitorname       object\n",
       "chocolate             int64\n",
       "fruity                int64\n",
       "caramel               int64\n",
       "peanutyalmondy        int64\n",
       "nougat                int64\n",
       "crispedricewafer      int64\n",
       "hard                  int64\n",
       "bar                   int64\n",
       "pluribus              int64\n",
       "sugarpercent        float64\n",
       "pricepercent        float64\n",
       "winpercent          float64\n",
       "dtype: object"
      ]
     },
     "execution_count": 56,
     "metadata": {},
     "output_type": "execute_result"
    }
   ],
   "source": [
    "# check the datatypes present\n",
    "data.dtypes"
   ]
  },
  {
   "cell_type": "code",
   "execution_count": 57,
   "metadata": {},
   "outputs": [
    {
     "data": {
      "text/html": [
       "<div>\n",
       "<style scoped>\n",
       "    .dataframe tbody tr th:only-of-type {\n",
       "        vertical-align: middle;\n",
       "    }\n",
       "\n",
       "    .dataframe tbody tr th {\n",
       "        vertical-align: top;\n",
       "    }\n",
       "\n",
       "    .dataframe thead th {\n",
       "        text-align: right;\n",
       "    }\n",
       "</style>\n",
       "<table border=\"1\" class=\"dataframe\">\n",
       "  <thead>\n",
       "    <tr style=\"text-align: right;\">\n",
       "      <th></th>\n",
       "      <th>count</th>\n",
       "      <th>unique</th>\n",
       "      <th>top</th>\n",
       "      <th>freq</th>\n",
       "      <th>mean</th>\n",
       "      <th>std</th>\n",
       "      <th>min</th>\n",
       "      <th>25%</th>\n",
       "      <th>50%</th>\n",
       "      <th>75%</th>\n",
       "      <th>max</th>\n",
       "    </tr>\n",
       "  </thead>\n",
       "  <tbody>\n",
       "    <tr>\n",
       "      <th>competitorname</th>\n",
       "      <td>85</td>\n",
       "      <td>85</td>\n",
       "      <td>100 Grand</td>\n",
       "      <td>1</td>\n",
       "      <td>NaN</td>\n",
       "      <td>NaN</td>\n",
       "      <td>NaN</td>\n",
       "      <td>NaN</td>\n",
       "      <td>NaN</td>\n",
       "      <td>NaN</td>\n",
       "      <td>NaN</td>\n",
       "    </tr>\n",
       "    <tr>\n",
       "      <th>chocolate</th>\n",
       "      <td>85.0</td>\n",
       "      <td>NaN</td>\n",
       "      <td>NaN</td>\n",
       "      <td>NaN</td>\n",
       "      <td>0.435294</td>\n",
       "      <td>0.498738</td>\n",
       "      <td>0.0</td>\n",
       "      <td>0.0</td>\n",
       "      <td>0.0</td>\n",
       "      <td>1.0</td>\n",
       "      <td>1.0</td>\n",
       "    </tr>\n",
       "    <tr>\n",
       "      <th>fruity</th>\n",
       "      <td>85.0</td>\n",
       "      <td>NaN</td>\n",
       "      <td>NaN</td>\n",
       "      <td>NaN</td>\n",
       "      <td>0.447059</td>\n",
       "      <td>0.50014</td>\n",
       "      <td>0.0</td>\n",
       "      <td>0.0</td>\n",
       "      <td>0.0</td>\n",
       "      <td>1.0</td>\n",
       "      <td>1.0</td>\n",
       "    </tr>\n",
       "    <tr>\n",
       "      <th>caramel</th>\n",
       "      <td>85.0</td>\n",
       "      <td>NaN</td>\n",
       "      <td>NaN</td>\n",
       "      <td>NaN</td>\n",
       "      <td>0.164706</td>\n",
       "      <td>0.373116</td>\n",
       "      <td>0.0</td>\n",
       "      <td>0.0</td>\n",
       "      <td>0.0</td>\n",
       "      <td>0.0</td>\n",
       "      <td>1.0</td>\n",
       "    </tr>\n",
       "    <tr>\n",
       "      <th>peanutyalmondy</th>\n",
       "      <td>85.0</td>\n",
       "      <td>NaN</td>\n",
       "      <td>NaN</td>\n",
       "      <td>NaN</td>\n",
       "      <td>0.164706</td>\n",
       "      <td>0.373116</td>\n",
       "      <td>0.0</td>\n",
       "      <td>0.0</td>\n",
       "      <td>0.0</td>\n",
       "      <td>0.0</td>\n",
       "      <td>1.0</td>\n",
       "    </tr>\n",
       "    <tr>\n",
       "      <th>nougat</th>\n",
       "      <td>85.0</td>\n",
       "      <td>NaN</td>\n",
       "      <td>NaN</td>\n",
       "      <td>NaN</td>\n",
       "      <td>0.082353</td>\n",
       "      <td>0.276533</td>\n",
       "      <td>0.0</td>\n",
       "      <td>0.0</td>\n",
       "      <td>0.0</td>\n",
       "      <td>0.0</td>\n",
       "      <td>1.0</td>\n",
       "    </tr>\n",
       "    <tr>\n",
       "      <th>crispedricewafer</th>\n",
       "      <td>85.0</td>\n",
       "      <td>NaN</td>\n",
       "      <td>NaN</td>\n",
       "      <td>NaN</td>\n",
       "      <td>0.082353</td>\n",
       "      <td>0.276533</td>\n",
       "      <td>0.0</td>\n",
       "      <td>0.0</td>\n",
       "      <td>0.0</td>\n",
       "      <td>0.0</td>\n",
       "      <td>1.0</td>\n",
       "    </tr>\n",
       "    <tr>\n",
       "      <th>hard</th>\n",
       "      <td>85.0</td>\n",
       "      <td>NaN</td>\n",
       "      <td>NaN</td>\n",
       "      <td>NaN</td>\n",
       "      <td>0.176471</td>\n",
       "      <td>0.383482</td>\n",
       "      <td>0.0</td>\n",
       "      <td>0.0</td>\n",
       "      <td>0.0</td>\n",
       "      <td>0.0</td>\n",
       "      <td>1.0</td>\n",
       "    </tr>\n",
       "    <tr>\n",
       "      <th>bar</th>\n",
       "      <td>85.0</td>\n",
       "      <td>NaN</td>\n",
       "      <td>NaN</td>\n",
       "      <td>NaN</td>\n",
       "      <td>0.247059</td>\n",
       "      <td>0.433861</td>\n",
       "      <td>0.0</td>\n",
       "      <td>0.0</td>\n",
       "      <td>0.0</td>\n",
       "      <td>0.0</td>\n",
       "      <td>1.0</td>\n",
       "    </tr>\n",
       "    <tr>\n",
       "      <th>pluribus</th>\n",
       "      <td>85.0</td>\n",
       "      <td>NaN</td>\n",
       "      <td>NaN</td>\n",
       "      <td>NaN</td>\n",
       "      <td>0.517647</td>\n",
       "      <td>0.502654</td>\n",
       "      <td>0.0</td>\n",
       "      <td>0.0</td>\n",
       "      <td>1.0</td>\n",
       "      <td>1.0</td>\n",
       "      <td>1.0</td>\n",
       "    </tr>\n",
       "    <tr>\n",
       "      <th>sugarpercent</th>\n",
       "      <td>85.0</td>\n",
       "      <td>NaN</td>\n",
       "      <td>NaN</td>\n",
       "      <td>NaN</td>\n",
       "      <td>0.478647</td>\n",
       "      <td>0.282778</td>\n",
       "      <td>0.011</td>\n",
       "      <td>0.22</td>\n",
       "      <td>0.465</td>\n",
       "      <td>0.732</td>\n",
       "      <td>0.988</td>\n",
       "    </tr>\n",
       "    <tr>\n",
       "      <th>pricepercent</th>\n",
       "      <td>85.0</td>\n",
       "      <td>NaN</td>\n",
       "      <td>NaN</td>\n",
       "      <td>NaN</td>\n",
       "      <td>0.468882</td>\n",
       "      <td>0.28574</td>\n",
       "      <td>0.011</td>\n",
       "      <td>0.255</td>\n",
       "      <td>0.465</td>\n",
       "      <td>0.651</td>\n",
       "      <td>0.976</td>\n",
       "    </tr>\n",
       "    <tr>\n",
       "      <th>winpercent</th>\n",
       "      <td>85.0</td>\n",
       "      <td>NaN</td>\n",
       "      <td>NaN</td>\n",
       "      <td>NaN</td>\n",
       "      <td>50.316764</td>\n",
       "      <td>14.714357</td>\n",
       "      <td>22.445341</td>\n",
       "      <td>39.141056</td>\n",
       "      <td>47.829754</td>\n",
       "      <td>59.863998</td>\n",
       "      <td>84.18029</td>\n",
       "    </tr>\n",
       "  </tbody>\n",
       "</table>\n",
       "</div>"
      ],
      "text/plain": [
       "                 count unique        top freq       mean        std  \\\n",
       "competitorname      85     85  100 Grand    1        NaN        NaN   \n",
       "chocolate         85.0    NaN        NaN  NaN   0.435294   0.498738   \n",
       "fruity            85.0    NaN        NaN  NaN   0.447059    0.50014   \n",
       "caramel           85.0    NaN        NaN  NaN   0.164706   0.373116   \n",
       "peanutyalmondy    85.0    NaN        NaN  NaN   0.164706   0.373116   \n",
       "nougat            85.0    NaN        NaN  NaN   0.082353   0.276533   \n",
       "crispedricewafer  85.0    NaN        NaN  NaN   0.082353   0.276533   \n",
       "hard              85.0    NaN        NaN  NaN   0.176471   0.383482   \n",
       "bar               85.0    NaN        NaN  NaN   0.247059   0.433861   \n",
       "pluribus          85.0    NaN        NaN  NaN   0.517647   0.502654   \n",
       "sugarpercent      85.0    NaN        NaN  NaN   0.478647   0.282778   \n",
       "pricepercent      85.0    NaN        NaN  NaN   0.468882    0.28574   \n",
       "winpercent        85.0    NaN        NaN  NaN  50.316764  14.714357   \n",
       "\n",
       "                        min        25%        50%        75%       max  \n",
       "competitorname          NaN        NaN        NaN        NaN       NaN  \n",
       "chocolate               0.0        0.0        0.0        1.0       1.0  \n",
       "fruity                  0.0        0.0        0.0        1.0       1.0  \n",
       "caramel                 0.0        0.0        0.0        0.0       1.0  \n",
       "peanutyalmondy          0.0        0.0        0.0        0.0       1.0  \n",
       "nougat                  0.0        0.0        0.0        0.0       1.0  \n",
       "crispedricewafer        0.0        0.0        0.0        0.0       1.0  \n",
       "hard                    0.0        0.0        0.0        0.0       1.0  \n",
       "bar                     0.0        0.0        0.0        0.0       1.0  \n",
       "pluribus                0.0        0.0        1.0        1.0       1.0  \n",
       "sugarpercent          0.011       0.22      0.465      0.732     0.988  \n",
       "pricepercent          0.011      0.255      0.465      0.651     0.976  \n",
       "winpercent        22.445341  39.141056  47.829754  59.863998  84.18029  "
      ]
     },
     "execution_count": 57,
     "metadata": {},
     "output_type": "execute_result"
    }
   ],
   "source": [
    "# descriptive statistics\n",
    "data.describe(include='all').T"
   ]
  },
  {
   "cell_type": "code",
   "execution_count": 58,
   "metadata": {},
   "outputs": [
    {
     "name": "stdout",
     "output_type": "stream",
     "text": [
      "<class 'pandas.core.frame.DataFrame'>\n",
      "RangeIndex: 85 entries, 0 to 84\n",
      "Data columns (total 13 columns):\n",
      " #   Column            Non-Null Count  Dtype  \n",
      "---  ------            --------------  -----  \n",
      " 0   competitorname    85 non-null     object \n",
      " 1   chocolate         85 non-null     int64  \n",
      " 2   fruity            85 non-null     int64  \n",
      " 3   caramel           85 non-null     int64  \n",
      " 4   peanutyalmondy    85 non-null     int64  \n",
      " 5   nougat            85 non-null     int64  \n",
      " 6   crispedricewafer  85 non-null     int64  \n",
      " 7   hard              85 non-null     int64  \n",
      " 8   bar               85 non-null     int64  \n",
      " 9   pluribus          85 non-null     int64  \n",
      " 10  sugarpercent      85 non-null     float64\n",
      " 11  pricepercent      85 non-null     float64\n",
      " 12  winpercent        85 non-null     float64\n",
      "dtypes: float64(3), int64(9), object(1)\n",
      "memory usage: 8.8+ KB\n"
     ]
    }
   ],
   "source": [
    "# concise info\n",
    "data.info()"
   ]
  },
  {
   "cell_type": "code",
   "execution_count": 59,
   "metadata": {},
   "outputs": [
    {
     "data": {
      "text/plain": [
       "competitorname      0\n",
       "chocolate           0\n",
       "fruity              0\n",
       "caramel             0\n",
       "peanutyalmondy      0\n",
       "nougat              0\n",
       "crispedricewafer    0\n",
       "hard                0\n",
       "bar                 0\n",
       "pluribus            0\n",
       "sugarpercent        0\n",
       "pricepercent        0\n",
       "winpercent          0\n",
       "dtype: int64"
      ]
     },
     "execution_count": 59,
     "metadata": {},
     "output_type": "execute_result"
    }
   ],
   "source": [
    "# check for null/missing values\n",
    "data.isnull().sum()"
   ]
  },
  {
   "cell_type": "code",
   "execution_count": 60,
   "metadata": {},
   "outputs": [
    {
     "data": {
      "text/plain": [
       "0"
      ]
     },
     "execution_count": 60,
     "metadata": {},
     "output_type": "execute_result"
    }
   ],
   "source": [
    "# duplicate records\n",
    "data.duplicated().sum()"
   ]
  },
  {
   "cell_type": "markdown",
   "metadata": {},
   "source": [
    "<b>Insights:</b>\n",
    "\n",
    " - Number of Records: 85, Number of Features:13\n",
    " - No missing or duplicate records present in the data"
   ]
  },
  {
   "cell_type": "code",
   "execution_count": 61,
   "metadata": {},
   "outputs": [
    {
     "data": {
      "text/html": [
       "<div>\n",
       "<style scoped>\n",
       "    .dataframe tbody tr th:only-of-type {\n",
       "        vertical-align: middle;\n",
       "    }\n",
       "\n",
       "    .dataframe tbody tr th {\n",
       "        vertical-align: top;\n",
       "    }\n",
       "\n",
       "    .dataframe thead th {\n",
       "        text-align: right;\n",
       "    }\n",
       "</style>\n",
       "<table border=\"1\" class=\"dataframe\">\n",
       "  <thead>\n",
       "    <tr style=\"text-align: right;\">\n",
       "      <th></th>\n",
       "      <th>competitorname</th>\n",
       "      <th>winpercent</th>\n",
       "    </tr>\n",
       "  </thead>\n",
       "  <tbody>\n",
       "    <tr>\n",
       "      <th>0</th>\n",
       "      <td>Reese's Peanut Butter cup</td>\n",
       "      <td>84.180290</td>\n",
       "    </tr>\n",
       "    <tr>\n",
       "      <th>1</th>\n",
       "      <td>Reese's Miniatures</td>\n",
       "      <td>81.866257</td>\n",
       "    </tr>\n",
       "    <tr>\n",
       "      <th>2</th>\n",
       "      <td>Twix</td>\n",
       "      <td>81.642914</td>\n",
       "    </tr>\n",
       "  </tbody>\n",
       "</table>\n",
       "</div>"
      ],
      "text/plain": [
       "              competitorname  winpercent\n",
       "0  Reese's Peanut Butter cup   84.180290\n",
       "1         Reese's Miniatures   81.866257\n",
       "2                       Twix   81.642914"
      ]
     },
     "execution_count": 61,
     "metadata": {},
     "output_type": "execute_result"
    }
   ],
   "source": [
    "# Sort candies by win percentage in descending order\n",
    "top_candies = data.sort_values(by='winpercent', ascending=False)\n",
    "\n",
    "# Select top 3 candies\n",
    "top_3_candies = top_candies[['competitorname', 'winpercent']].reset_index(drop='index').head(3)\n",
    "\n",
    "# Display the top 3 candies\n",
    "top_3_candies"
   ]
  },
  {
   "cell_type": "code",
   "execution_count": 62,
   "metadata": {},
   "outputs": [
    {
     "data": {
      "image/png": "[encoded data removed]",
      "text/plain": [
       "<Figure size 1500x400 with 1 Axes>"
      ]
     },
     "metadata": {},
     "output_type": "display_data"
    }
   ],
   "source": [
    "# Top 3 Candy Win Percentages\n",
    "plt.figure(figsize=(15, 4))\n",
    "palette1 = sns.color_palette(\"crest_r\", len(top_3_candies['competitorname'].unique()))\n",
    "\n",
    "ax1 = plt.subplot2grid((1,1),(0,0))\n",
    "\n",
    "sns.barplot(x='winpercent', y='competitorname', data=top_3_candies, palette=palette1, estimator=np.mean, ax=ax1)\n",
    "for i in ax1.containers:\n",
    "    plt.bar_label(i)\n",
    "plt.title('Top 3 Candy Win Percentages')\n",
    "plt.xlabel('Win Percentage')\n",
    "plt.ylabel('Candy')\n",
    "plt.tight_layout()\n",
    "plt.show()"
   ]
  },
  {
   "cell_type": "code",
   "execution_count": 63,
   "metadata": {},
   "outputs": [
    {
     "data": {
      "image/png": "[encoded data removed]",
      "text/plain": [
       "<Figure size 1200x400 with 1 Axes>"
      ]
     },
     "metadata": {},
     "output_type": "display_data"
    }
   ],
   "source": [
    "# Chocolate vs Non-Chocolate Candies\n",
    "chocolate_counts = data['chocolate'].value_counts()\n",
    "palette1 = sns.color_palette(\"crest_r\", len(data['chocolate'].unique()))\n",
    "\n",
    "plt.figure(figsize=(12,4))\n",
    "chocolate_counts.plot.pie(autopct='%1.1f%%', labels=['Non-Chocolate', 'Chocolate'], colors = palette1)\n",
    "plt.title('Chocolate vs Non-Chocolate Candies')\n",
    "plt.ylabel('')\n",
    "plt.show()"
   ]
  },
  {
   "cell_type": "code",
   "execution_count": 66,
   "metadata": {},
   "outputs": [
    {
     "data": {
      "image/png": "[encoded data removed]",
      "text/plain": [
       "<Figure size 1000x400 with 1 Axes>"
      ]
     },
     "metadata": {},
     "output_type": "display_data"
    }
   ],
   "source": [
    "# Relationship Between Sugar Percentage and Win Percentage\n",
    "plt.figure(figsize=(10, 4))\n",
    "sns.scatterplot(x='sugarpercent', y='winpercent', hue='chocolate', data=data, palette='crest_r')\n",
    "plt.title('Sugar Content vs Win Percentage')\n",
    "plt.xlabel('Sugar Percentage')\n",
    "plt.ylabel('Win Percentage')\n",
    "plt.show()"
   ]
  },
  {
   "cell_type": "code",
   "execution_count": null,
   "metadata": {},
   "outputs": [],
   "source": []
  }
 ],
 "metadata": {
  "kernelspec": {
   "display_name": "Deep_Learning",
   "language": "python",
   "name": "python3"
  },
  "language_info": {
   "codemirror_mode": {
    "name": "ipython",
    "version": 3
   },
   "file_extension": ".py",
   "mimetype": "text/x-python",
   "name": "python",
   "nbconvert_exporter": "python",
   "pygments_lexer": "ipython3",
   "version": "3.9.18"
  }
 },
 "nbformat": 4,
 "nbformat_minor": 2
}
