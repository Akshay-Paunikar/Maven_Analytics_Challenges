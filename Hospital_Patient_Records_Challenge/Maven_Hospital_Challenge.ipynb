{
 "cells": [
  {
   "cell_type": "markdown",
   "metadata": {},
   "source": [
    "## Maven Hospital Challenge\n",
    "\n",
    "#### Challenge Objective\n",
    "\n",
    "For the Maven Hospital Challenge, you'll play the role of an Analytics Consultant for Massachusetts General Hospital (MGH).\n",
    "\n",
    "You've been asked to build a high-level KPI report for the executive team, based on a subset of patient records. The purpose of the report is to give stakeholders visibility into the hospital's recent performance, and answer the following questions:\n",
    "\n",
    " - How many patients have been admitted or readmitted over time?\n",
    " - How long are patients staying in the hospital, on average?\n",
    " - How much is the average cost per visit?\n",
    " - How many procedures are covered by insurance?\n",
    "\n",
    "The dashboard should scale to accommodate new data over time, but the CEO has asked you to summarize any insights you can derive from the sample provided.\n",
    "\n",
    "#### About The Data Set\n",
    "Synthetic data on ~1k patients of Massachussets General Hospital from 2011-2022, including information on patient demographics, insurance coverage, and medical encounters & procedures."
   ]
  },
  {
   "cell_type": "code",
   "execution_count": 2,
   "metadata": {},
   "outputs": [],
   "source": [
    "# import required libraries\n",
    "import numpy as np\n",
    "import pandas as pd\n",
    "import matplotlib.pyplot as plt\n",
    "%matplotlib inline\n",
    "import seaborn as sns"
   ]
  },
  {
   "cell_type": "code",
   "execution_count": 3,
   "metadata": {},
   "outputs": [],
   "source": [
    "# Let's import all the datasets required for this task\n",
    "patient_encounter = pd.read_csv(\"encounters.csv\")\n",
    "hospital_details = pd.read_csv(\"organizations.csv\")\n",
    "patient_demographic = pd.read_csv(\"patients.csv\")\n",
    "insurance_payer = pd.read_csv(\"payers.csv\")\n",
    "operating_procedures = pd.read_csv(\"procedures.csv\")"
   ]
  },
  {
   "cell_type": "code",
   "execution_count": null,
   "metadata": {},
   "outputs": [],
   "source": []
  }
 ],
 "metadata": {
  "kernelspec": {
   "display_name": "Deep_Learning",
   "language": "python",
   "name": "python3"
  },
  "language_info": {
   "codemirror_mode": {
    "name": "ipython",
    "version": 3
   },
   "file_extension": ".py",
   "mimetype": "text/x-python",
   "name": "python",
   "nbconvert_exporter": "python",
   "pygments_lexer": "ipython3",
   "version": "3.9.18"
  }
 },
 "nbformat": 4,
 "nbformat_minor": 2
}
