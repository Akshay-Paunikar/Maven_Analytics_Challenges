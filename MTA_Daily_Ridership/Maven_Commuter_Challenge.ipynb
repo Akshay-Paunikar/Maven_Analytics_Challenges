{
 "cells": [
  {
   "cell_type": "markdown",
   "metadata": {},
   "source": [
    "### Maven Commuter Challenge\n",
    "\n",
    "Create an interactive dashboard illustrating post-pandemic ridership recovery trends across the MTA's services.\n",
    "\n",
    "#### About The Data Set:\n",
    "\n",
    "The daily ridership dataset provides systemwide ridership and traffic estimates for the Metropolitan Transportation Authority's (MTA) different services beginning March 1st, 2020, and provides a percentage comparison against pre-pandemic figures.\n",
    "\n",
    "#### Challenge Objective:\n",
    "\n",
    "This challenge is a collaboration between Maven Analytics and Plotly!\n",
    "\n",
    "For the Maven Commuter Challenge, you work as a Data Visualization Specialist for the Data & Analytics Team at the Metropolitan Transportation Authority (MTA), North America's largest transportation network.\n",
    "\n",
    "Your task is to create an interactive visual or dashboard that illustrates post-pandemic ridership recovery trends across the MTA's services."
   ]
  },
  {
   "cell_type": "markdown",
   "metadata": {},
   "source": []
  }
 ],
 "metadata": {
  "kernelspec": {
   "display_name": "Deep_Learning",
   "language": "python",
   "name": "python3"
  },
  "language_info": {
   "name": "python",
   "version": "3.9.7"
  }
 },
 "nbformat": 4,
 "nbformat_minor": 2
}
