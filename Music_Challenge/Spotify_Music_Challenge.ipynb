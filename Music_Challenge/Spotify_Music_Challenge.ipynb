{
 "cells": [
  {
   "cell_type": "markdown",
   "metadata": {},
   "source": [
    "## Maven Music Challenge"
   ]
  },
  {
   "cell_type": "markdown",
   "metadata": {},
   "source": [
    "### Spotify Streaming History\n",
    "Spotify user's complete music streaming history data, including timestamps, track, artist, and album names, and reasons for playing and ending each track."
   ]
  },
  {
   "cell_type": "markdown",
   "metadata": {},
   "source": [
    "### Challenge Objective\n",
    "Every December, millions of Spotify users look forward to their Spotify Wrapped – a personalized recap showcasing their listening habits over the past year.\n",
    "\n",
    "Wrapped has become a social and cultural phenomenon, including breakdowns of listeners' most-streamed artists and tracks, total minutes listened, personalized playlists, and even video messages from artists to their top fans.\n",
    "\n",
    "For the Maven Music Challenge, your task is to create your own version of Spotify Wrapped, by downloading your streaming history or using the sample dataset provided (if you aren't a Spotify user)."
   ]
  },
  {
   "cell_type": "markdown",
   "metadata": {},
   "source": []
  }
 ],
 "metadata": {
  "kernelspec": {
   "display_name": "Deep_Learning",
   "language": "python",
   "name": "python3"
  },
  "language_info": {
   "name": "python",
   "version": "3.9.18"
  }
 },
 "nbformat": 4,
 "nbformat_minor": 2
}
