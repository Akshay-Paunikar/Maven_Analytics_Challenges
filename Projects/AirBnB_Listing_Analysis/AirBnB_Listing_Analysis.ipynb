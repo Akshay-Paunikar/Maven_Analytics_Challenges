{
 "cells": [
  {
   "cell_type": "markdown",
   "metadata": {},
   "source": [
    "## AirBnB Listing Analysis\n",
    "Analyze AirBnB listings in Paris to determine the impact of recent regulations\n",
    "\n",
    "#### Airbnb Listings & Reviews\n",
    "Airbnb data for 250,000+ listings in 10 major cities, including information about hosts, pricing, location, and room type, along with over 5 million historical reviews.\n",
    "\n",
    "NOTE: Prices are in local currency\n",
    "\n",
    "#### Recommended Analysis\n",
    "\n",
    " - Can you spot any major differences in the Airbnb market between cities?\n",
    "\n",
    " - Which attributes have the biggest influence in price?\n",
    "\n",
    " - Are you able to identify any trends or seasonality in the review data?\n",
    "\n",
    " - Which city offers a better value for travel?"
   ]
  },
  {
   "cell_type": "code",
   "execution_count": 1,
   "metadata": {},
   "outputs": [],
   "source": [
    "import numpy as np\n",
    "import pandas as pd\n",
    "import zipfile"
   ]
  },
  {
   "cell_type": "code",
   "execution_count": 8,
   "metadata": {},
   "outputs": [
    {
     "name": "stderr",
     "output_type": "stream",
     "text": [
      "C:\\Users\\LENOVO\\AppData\\Local\\Temp\\ipykernel_11700\\2285035802.py:1: DtypeWarning: Columns (5,13) have mixed types. Specify dtype option on import or set low_memory=False.\n",
      "  df = pd.read_csv(\"Dataset\\Listings.csv\", encoding='unicode_escape')\n"
     ]
    }
   ],
   "source": [
    "df = pd.read_csv(\"Dataset\\Listings.csv\", encoding='unicode_escape')"
   ]
  },
  {
   "cell_type": "code",
   "execution_count": 9,
   "metadata": {},
   "outputs": [
    {
     "data": {
      "text/plain": [
       "(279712, 33)"
      ]
     },
     "execution_count": 9,
     "metadata": {},
     "output_type": "execute_result"
    }
   ],
   "source": [
    "df.shape"
   ]
  },
  {
   "cell_type": "code",
   "execution_count": 10,
   "metadata": {},
   "outputs": [
    {
     "data": {
      "text/plain": [
       "listing_id                       int64\n",
       "name                            object\n",
       "host_id                          int64\n",
       "host_since                      object\n",
       "host_location                   object\n",
       "host_response_time              object\n",
       "host_response_rate             float64\n",
       "host_acceptance_rate           float64\n",
       "host_is_superhost               object\n",
       "host_total_listings_count      float64\n",
       "host_has_profile_pic            object\n",
       "host_identity_verified          object\n",
       "neighbourhood                   object\n",
       "district                        object\n",
       "city                            object\n",
       "latitude                       float64\n",
       "longitude                      float64\n",
       "property_type                   object\n",
       "room_type                       object\n",
       "accommodates                     int64\n",
       "bedrooms                       float64\n",
       "amenities                       object\n",
       "price                            int64\n",
       "minimum_nights                   int64\n",
       "maximum_nights                   int64\n",
       "review_scores_rating           float64\n",
       "review_scores_accuracy         float64\n",
       "review_scores_cleanliness      float64\n",
       "review_scores_checkin          float64\n",
       "review_scores_communication    float64\n",
       "review_scores_location         float64\n",
       "review_scores_value            float64\n",
       "instant_bookable                object\n",
       "dtype: object"
      ]
     },
     "execution_count": 10,
     "metadata": {},
     "output_type": "execute_result"
    }
   ],
   "source": [
    "df.dtypes"
   ]
  },
  {
   "cell_type": "code",
   "execution_count": null,
   "metadata": {},
   "outputs": [],
   "source": []
  }
 ],
 "metadata": {
  "kernelspec": {
   "display_name": "Deep_Learning",
   "language": "python",
   "name": "python3"
  },
  "language_info": {
   "codemirror_mode": {
    "name": "ipython",
    "version": 3
   },
   "file_extension": ".py",
   "mimetype": "text/x-python",
   "name": "python",
   "nbconvert_exporter": "python",
   "pygments_lexer": "ipython3",
   "version": "3.9.18"
  }
 },
 "nbformat": 4,
 "nbformat_minor": 2
}
