{
  "cells": [
    {
      "cell_type": "markdown",
      "metadata": {
        "id": "QpWvxY58-LE9"
      },
      "source": [
        "## AirBnB Listing Analysis\n",
        "Analyze AirBnB listings in Paris to determine the impact of recent regulations\n",
        "\n",
        "#### Airbnb Listings & Reviews\n",
        "Airbnb data for 250,000+ listings in 10 major cities, including information about hosts, pricing, location, and room type, along with over 5 million historical reviews.\n",
        "\n",
        "NOTE: Prices are in local currency\n",
        "\n",
        "#### Recommended Analysis\n",
        "\n",
        " - Can you spot any major differences in the Airbnb market between cities?\n",
        "\n",
        " - Which attributes have the biggest influence in price?\n",
        "\n",
        " - Are you able to identify any trends or seasonality in the review data?\n",
        "\n",
        " - Which city offers a better value for travel?"
      ]
    },
    {
      "cell_type": "code",
      "execution_count": 39,
      "metadata": {
        "id": "4ZMS7XUMydox"
      },
      "outputs": [],
      "source": [
        "# import libraries\n",
        "import numpy as np\n",
        "import pandas as pd\n",
        "import matplotlib.pyplot as plt\n",
        "import seaborn as sns\n",
        "%matplotlib inline"
      ]
    },
    {
      "cell_type": "code",
      "execution_count": 40,
      "metadata": {
        "id": "DYm7wcKHymIF"
      },
      "outputs": [],
      "source": [
        "# AirBnB listing Data\n",
        "airbnb = pd.read_csv('E:\\Maven_Analytics_Challenges\\Projects\\AirBnB_Listing_Analysis\\Dataset\\Listings.csv', \n",
        "                     encoding = 'ISO-8859-1', low_memory=False, parse_dates=['host_since'])"
      ]
    },
    {
      "cell_type": "code",
      "execution_count": 41,
      "metadata": {
        "colab": {
          "base_uri": "https://localhost:8080/"
        },
        "id": "iGlB3Qa6zC_o",
        "outputId": "1df45571-e22e-49cd-bf99-a265aac537d9"
      },
      "outputs": [
        {
          "data": {
            "text/plain": [
              "(279712, 33)"
            ]
          },
          "execution_count": 41,
          "metadata": {},
          "output_type": "execute_result"
        }
      ],
      "source": [
        "# dimensions of data\n",
        "airbnb.shape"
      ]
    },
    {
      "cell_type": "code",
      "execution_count": 42,
      "metadata": {
        "colab": {
          "base_uri": "https://localhost:8080/",
          "height": 550
        },
        "id": "sbSUf-910Ktt",
        "outputId": "79680b90-5ca0-457a-9fa6-082997d90f8b"
      },
      "outputs": [
        {
          "data": {
            "text/html": [
              "<div>\n",
              "<style scoped>\n",
              "    .dataframe tbody tr th:only-of-type {\n",
              "        vertical-align: middle;\n",
              "    }\n",
              "\n",
              "    .dataframe tbody tr th {\n",
              "        vertical-align: top;\n",
              "    }\n",
              "\n",
              "    .dataframe thead th {\n",
              "        text-align: right;\n",
              "    }\n",
              "</style>\n",
              "<table border=\"1\" class=\"dataframe\">\n",
              "  <thead>\n",
              "    <tr style=\"text-align: right;\">\n",
              "      <th></th>\n",
              "      <th>listing_id</th>\n",
              "      <th>name</th>\n",
              "      <th>host_id</th>\n",
              "      <th>host_since</th>\n",
              "      <th>host_location</th>\n",
              "      <th>host_response_time</th>\n",
              "      <th>host_response_rate</th>\n",
              "      <th>host_acceptance_rate</th>\n",
              "      <th>host_is_superhost</th>\n",
              "      <th>host_total_listings_count</th>\n",
              "      <th>...</th>\n",
              "      <th>minimum_nights</th>\n",
              "      <th>maximum_nights</th>\n",
              "      <th>review_scores_rating</th>\n",
              "      <th>review_scores_accuracy</th>\n",
              "      <th>review_scores_cleanliness</th>\n",
              "      <th>review_scores_checkin</th>\n",
              "      <th>review_scores_communication</th>\n",
              "      <th>review_scores_location</th>\n",
              "      <th>review_scores_value</th>\n",
              "      <th>instant_bookable</th>\n",
              "    </tr>\n",
              "  </thead>\n",
              "  <tbody>\n",
              "    <tr>\n",
              "      <th>0</th>\n",
              "      <td>281420</td>\n",
              "      <td>Beautiful Flat in le Village Montmartre, Paris</td>\n",
              "      <td>1466919</td>\n",
              "      <td>2011-12-03</td>\n",
              "      <td>Paris, Ile-de-France, France</td>\n",
              "      <td>NaN</td>\n",
              "      <td>NaN</td>\n",
              "      <td>NaN</td>\n",
              "      <td>f</td>\n",
              "      <td>1.0</td>\n",
              "      <td>...</td>\n",
              "      <td>2</td>\n",
              "      <td>1125</td>\n",
              "      <td>100.0</td>\n",
              "      <td>10.0</td>\n",
              "      <td>10.0</td>\n",
              "      <td>10.0</td>\n",
              "      <td>10.0</td>\n",
              "      <td>10.0</td>\n",
              "      <td>10.0</td>\n",
              "      <td>f</td>\n",
              "    </tr>\n",
              "    <tr>\n",
              "      <th>1</th>\n",
              "      <td>3705183</td>\n",
              "      <td>39 mÃÂ² Paris (Sacre CÃâur)</td>\n",
              "      <td>10328771</td>\n",
              "      <td>2013-11-29</td>\n",
              "      <td>Paris, Ile-de-France, France</td>\n",
              "      <td>NaN</td>\n",
              "      <td>NaN</td>\n",
              "      <td>NaN</td>\n",
              "      <td>f</td>\n",
              "      <td>1.0</td>\n",
              "      <td>...</td>\n",
              "      <td>2</td>\n",
              "      <td>1125</td>\n",
              "      <td>100.0</td>\n",
              "      <td>10.0</td>\n",
              "      <td>10.0</td>\n",
              "      <td>10.0</td>\n",
              "      <td>10.0</td>\n",
              "      <td>10.0</td>\n",
              "      <td>10.0</td>\n",
              "      <td>f</td>\n",
              "    </tr>\n",
              "    <tr>\n",
              "      <th>2</th>\n",
              "      <td>4082273</td>\n",
              "      <td>Lovely apartment with Terrace, 60m2</td>\n",
              "      <td>19252768</td>\n",
              "      <td>2014-07-31</td>\n",
              "      <td>Paris, Ile-de-France, France</td>\n",
              "      <td>NaN</td>\n",
              "      <td>NaN</td>\n",
              "      <td>NaN</td>\n",
              "      <td>f</td>\n",
              "      <td>1.0</td>\n",
              "      <td>...</td>\n",
              "      <td>2</td>\n",
              "      <td>1125</td>\n",
              "      <td>100.0</td>\n",
              "      <td>10.0</td>\n",
              "      <td>10.0</td>\n",
              "      <td>10.0</td>\n",
              "      <td>10.0</td>\n",
              "      <td>10.0</td>\n",
              "      <td>10.0</td>\n",
              "      <td>f</td>\n",
              "    </tr>\n",
              "    <tr>\n",
              "      <th>3</th>\n",
              "      <td>4797344</td>\n",
              "      <td>Cosy studio (close to Eiffel tower)</td>\n",
              "      <td>10668311</td>\n",
              "      <td>2013-12-17</td>\n",
              "      <td>Paris, Ile-de-France, France</td>\n",
              "      <td>NaN</td>\n",
              "      <td>NaN</td>\n",
              "      <td>NaN</td>\n",
              "      <td>f</td>\n",
              "      <td>1.0</td>\n",
              "      <td>...</td>\n",
              "      <td>2</td>\n",
              "      <td>1125</td>\n",
              "      <td>100.0</td>\n",
              "      <td>10.0</td>\n",
              "      <td>10.0</td>\n",
              "      <td>10.0</td>\n",
              "      <td>10.0</td>\n",
              "      <td>10.0</td>\n",
              "      <td>10.0</td>\n",
              "      <td>f</td>\n",
              "    </tr>\n",
              "    <tr>\n",
              "      <th>4</th>\n",
              "      <td>4823489</td>\n",
              "      <td>Close to Eiffel Tower - Beautiful flat : 2 rooms</td>\n",
              "      <td>24837558</td>\n",
              "      <td>2014-12-14</td>\n",
              "      <td>Paris, Ile-de-France, France</td>\n",
              "      <td>NaN</td>\n",
              "      <td>NaN</td>\n",
              "      <td>NaN</td>\n",
              "      <td>f</td>\n",
              "      <td>1.0</td>\n",
              "      <td>...</td>\n",
              "      <td>2</td>\n",
              "      <td>1125</td>\n",
              "      <td>100.0</td>\n",
              "      <td>10.0</td>\n",
              "      <td>10.0</td>\n",
              "      <td>10.0</td>\n",
              "      <td>10.0</td>\n",
              "      <td>10.0</td>\n",
              "      <td>10.0</td>\n",
              "      <td>f</td>\n",
              "    </tr>\n",
              "  </tbody>\n",
              "</table>\n",
              "<p>5 rows × 33 columns</p>\n",
              "</div>"
            ],
            "text/plain": [
              "   listing_id                                              name   host_id  \\\n",
              "0      281420    Beautiful Flat in le Village Montmartre, Paris   1466919   \n",
              "1     3705183                   39 mÃÂ² Paris (Sacre CÃ\n",
              "âur)  10328771   \n",
              "2     4082273               Lovely apartment with Terrace, 60m2  19252768   \n",
              "3     4797344               Cosy studio (close to Eiffel tower)  10668311   \n",
              "4     4823489  Close to Eiffel Tower - Beautiful flat : 2 rooms  24837558   \n",
              "\n",
              "  host_since                 host_location host_response_time  \\\n",
              "0 2011-12-03  Paris, Ile-de-France, France                NaN   \n",
              "1 2013-11-29  Paris, Ile-de-France, France                NaN   \n",
              "2 2014-07-31  Paris, Ile-de-France, France                NaN   \n",
              "3 2013-12-17  Paris, Ile-de-France, France                NaN   \n",
              "4 2014-12-14  Paris, Ile-de-France, France                NaN   \n",
              "\n",
              "   host_response_rate  host_acceptance_rate host_is_superhost  \\\n",
              "0                 NaN                   NaN                 f   \n",
              "1                 NaN                   NaN                 f   \n",
              "2                 NaN                   NaN                 f   \n",
              "3                 NaN                   NaN                 f   \n",
              "4                 NaN                   NaN                 f   \n",
              "\n",
              "   host_total_listings_count  ... minimum_nights maximum_nights  \\\n",
              "0                        1.0  ...              2           1125   \n",
              "1                        1.0  ...              2           1125   \n",
              "2                        1.0  ...              2           1125   \n",
              "3                        1.0  ...              2           1125   \n",
              "4                        1.0  ...              2           1125   \n",
              "\n",
              "  review_scores_rating review_scores_accuracy review_scores_cleanliness  \\\n",
              "0                100.0                   10.0                      10.0   \n",
              "1                100.0                   10.0                      10.0   \n",
              "2                100.0                   10.0                      10.0   \n",
              "3                100.0                   10.0                      10.0   \n",
              "4                100.0                   10.0                      10.0   \n",
              "\n",
              "   review_scores_checkin  review_scores_communication review_scores_location  \\\n",
              "0                   10.0                         10.0                   10.0   \n",
              "1                   10.0                         10.0                   10.0   \n",
              "2                   10.0                         10.0                   10.0   \n",
              "3                   10.0                         10.0                   10.0   \n",
              "4                   10.0                         10.0                   10.0   \n",
              "\n",
              "  review_scores_value  instant_bookable  \n",
              "0                10.0                 f  \n",
              "1                10.0                 f  \n",
              "2                10.0                 f  \n",
              "3                10.0                 f  \n",
              "4                10.0                 f  \n",
              "\n",
              "[5 rows x 33 columns]"
            ]
          },
          "execution_count": 42,
          "metadata": {},
          "output_type": "execute_result"
        }
      ],
      "source": [
        "airbnb.head()"
      ]
    },
    {
      "cell_type": "code",
      "execution_count": 43,
      "metadata": {
        "colab": {
          "base_uri": "https://localhost:8080/",
          "height": 1000
        },
        "id": "e3LgFgpk0NFf",
        "outputId": "6544fffe-fad7-4116-99dc-4dd89a42cee4"
      },
      "outputs": [
        {
          "data": {
            "text/plain": [
              "listing_id                              int64\n",
              "name                                   object\n",
              "host_id                                 int64\n",
              "host_since                     datetime64[ns]\n",
              "host_location                          object\n",
              "host_response_time                     object\n",
              "host_response_rate                    float64\n",
              "host_acceptance_rate                  float64\n",
              "host_is_superhost                      object\n",
              "host_total_listings_count             float64\n",
              "host_has_profile_pic                   object\n",
              "host_identity_verified                 object\n",
              "neighbourhood                          object\n",
              "district                               object\n",
              "city                                   object\n",
              "latitude                              float64\n",
              "longitude                             float64\n",
              "property_type                          object\n",
              "room_type                              object\n",
              "accommodates                            int64\n",
              "bedrooms                              float64\n",
              "amenities                              object\n",
              "price                                   int64\n",
              "minimum_nights                          int64\n",
              "maximum_nights                          int64\n",
              "review_scores_rating                  float64\n",
              "review_scores_accuracy                float64\n",
              "review_scores_cleanliness             float64\n",
              "review_scores_checkin                 float64\n",
              "review_scores_communication           float64\n",
              "review_scores_location                float64\n",
              "review_scores_value                   float64\n",
              "instant_bookable                       object\n",
              "dtype: object"
            ]
          },
          "execution_count": 43,
          "metadata": {},
          "output_type": "execute_result"
        }
      ],
      "source": [
        "# datatypes\n",
        "airbnb.dtypes"
      ]
    },
    {
      "cell_type": "code",
      "execution_count": 44,
      "metadata": {},
      "outputs": [
        {
          "name": "stdout",
          "output_type": "stream",
          "text": [
            "<class 'pandas.core.frame.DataFrame'>\n",
            "RangeIndex: 279712 entries, 0 to 279711\n",
            "Data columns (total 33 columns):\n",
            " #   Column                       Non-Null Count   Dtype         \n",
            "---  ------                       --------------   -----         \n",
            " 0   listing_id                   279712 non-null  int64         \n",
            " 1   name                         279539 non-null  object        \n",
            " 2   host_id                      279712 non-null  int64         \n",
            " 3   host_since                   279547 non-null  datetime64[ns]\n",
            " 4   host_location                278872 non-null  object        \n",
            " 5   host_response_time           150930 non-null  object        \n",
            " 6   host_response_rate           150930 non-null  float64       \n",
            " 7   host_acceptance_rate         166625 non-null  float64       \n",
            " 8   host_is_superhost            279547 non-null  object        \n",
            " 9   host_total_listings_count    279547 non-null  float64       \n",
            " 10  host_has_profile_pic         279547 non-null  object        \n",
            " 11  host_identity_verified       279547 non-null  object        \n",
            " 12  neighbourhood                279712 non-null  object        \n",
            " 13  district                     37012 non-null   object        \n",
            " 14  city                         279712 non-null  object        \n",
            " 15  latitude                     279712 non-null  float64       \n",
            " 16  longitude                    279712 non-null  float64       \n",
            " 17  property_type                279712 non-null  object        \n",
            " 18  room_type                    279712 non-null  object        \n",
            " 19  accommodates                 279712 non-null  int64         \n",
            " 20  bedrooms                     250277 non-null  float64       \n",
            " 21  amenities                    279712 non-null  object        \n",
            " 22  price                        279712 non-null  int64         \n",
            " 23  minimum_nights               279712 non-null  int64         \n",
            " 24  maximum_nights               279712 non-null  int64         \n",
            " 25  review_scores_rating         188307 non-null  float64       \n",
            " 26  review_scores_accuracy       187999 non-null  float64       \n",
            " 27  review_scores_cleanliness    188047 non-null  float64       \n",
            " 28  review_scores_checkin        187941 non-null  float64       \n",
            " 29  review_scores_communication  188025 non-null  float64       \n",
            " 30  review_scores_location       187937 non-null  float64       \n",
            " 31  review_scores_value          187927 non-null  float64       \n",
            " 32  instant_bookable             279712 non-null  object        \n",
            "dtypes: datetime64[ns](1), float64(13), int64(6), object(13)\n",
            "memory usage: 70.4+ MB\n"
          ]
        }
      ],
      "source": [
        "airbnb.info()"
      ]
    },
    {
      "cell_type": "markdown",
      "metadata": {},
      "source": [
        "### Objective 1: Profile & QA the data\n",
        "\n",
        "Your first objective is to read in the AirBnB listings data, calculate basic profiling metrics, change column datatypes as necessary, and filter down to only Paris Listings.\n",
        "\n",
        "#### Task\n",
        "\n",
        " - Import/Open the Listings.csv file\n",
        " - Cast any date columns as a datetime format\n",
        " - Filter the data down to rows where the city is Paris, and keep only the columns ‘host_since’, ‘neighbourhood’, ‘city’, ‘accommodates’, and ‘price’\n",
        " - QA the Paris listings data: check for missing values, and calculate the minimum, maximum, and average for each numeric field"
      ]
    },
    {
      "cell_type": "code",
      "execution_count": 45,
      "metadata": {
        "id": "ccJDeQ9S0cUq"
      },
      "outputs": [
        {
          "name": "stdout",
          "output_type": "stream",
          "text": [
            "<class 'pandas.core.frame.DataFrame'>\n",
            "Int64Index: 64690 entries, 0 to 279711\n",
            "Data columns (total 5 columns):\n",
            " #   Column         Non-Null Count  Dtype         \n",
            "---  ------         --------------  -----         \n",
            " 0   host_since     64657 non-null  datetime64[ns]\n",
            " 1   neighbourhood  64690 non-null  object        \n",
            " 2   city           64690 non-null  object        \n",
            " 3   accommodates   64690 non-null  int64         \n",
            " 4   price          64690 non-null  int64         \n",
            "dtypes: datetime64[ns](1), int64(2), object(2)\n",
            "memory usage: 3.0+ MB\n"
          ]
        }
      ],
      "source": [
        "# filter down city to \"Paris\" keep only specified columns\n",
        "# method - 1\n",
        "paris_listing = airbnb[airbnb['city']=='Paris'][['host_since', 'neighbourhood', 'city', 'accommodates', 'price']]\n",
        "\n",
        "# method - 2\n",
        "paris_listing = airbnb.query(\"city == 'Paris'\").loc[:,['host_since', 'neighbourhood', 'city', 'accommodates', 'price']]\n",
        "\n",
        "paris_listing.info()"
      ]
    },
    {
      "cell_type": "code",
      "execution_count": 46,
      "metadata": {
        "colab": {
          "base_uri": "https://localhost:8080/",
          "height": 206
        },
        "id": "H43PRwsk09r1",
        "outputId": "da37c1f9-0a52-44af-a8c6-aa8b785a22b2"
      },
      "outputs": [
        {
          "data": {
            "text/html": [
              "<div>\n",
              "<style scoped>\n",
              "    .dataframe tbody tr th:only-of-type {\n",
              "        vertical-align: middle;\n",
              "    }\n",
              "\n",
              "    .dataframe tbody tr th {\n",
              "        vertical-align: top;\n",
              "    }\n",
              "\n",
              "    .dataframe thead th {\n",
              "        text-align: right;\n",
              "    }\n",
              "</style>\n",
              "<table border=\"1\" class=\"dataframe\">\n",
              "  <thead>\n",
              "    <tr style=\"text-align: right;\">\n",
              "      <th></th>\n",
              "      <th>host_since</th>\n",
              "      <th>neighbourhood</th>\n",
              "      <th>city</th>\n",
              "      <th>accommodates</th>\n",
              "      <th>price</th>\n",
              "    </tr>\n",
              "  </thead>\n",
              "  <tbody>\n",
              "    <tr>\n",
              "      <th>0</th>\n",
              "      <td>2011-12-03</td>\n",
              "      <td>Buttes-Montmartre</td>\n",
              "      <td>Paris</td>\n",
              "      <td>2</td>\n",
              "      <td>53</td>\n",
              "    </tr>\n",
              "    <tr>\n",
              "      <th>1</th>\n",
              "      <td>2013-11-29</td>\n",
              "      <td>Buttes-Montmartre</td>\n",
              "      <td>Paris</td>\n",
              "      <td>2</td>\n",
              "      <td>120</td>\n",
              "    </tr>\n",
              "    <tr>\n",
              "      <th>2</th>\n",
              "      <td>2014-07-31</td>\n",
              "      <td>Elysee</td>\n",
              "      <td>Paris</td>\n",
              "      <td>2</td>\n",
              "      <td>89</td>\n",
              "    </tr>\n",
              "    <tr>\n",
              "      <th>3</th>\n",
              "      <td>2013-12-17</td>\n",
              "      <td>Vaugirard</td>\n",
              "      <td>Paris</td>\n",
              "      <td>2</td>\n",
              "      <td>58</td>\n",
              "    </tr>\n",
              "    <tr>\n",
              "      <th>4</th>\n",
              "      <td>2014-12-14</td>\n",
              "      <td>Passy</td>\n",
              "      <td>Paris</td>\n",
              "      <td>2</td>\n",
              "      <td>60</td>\n",
              "    </tr>\n",
              "  </tbody>\n",
              "</table>\n",
              "</div>"
            ],
            "text/plain": [
              "  host_since      neighbourhood   city  accommodates  price\n",
              "0 2011-12-03  Buttes-Montmartre  Paris             2     53\n",
              "1 2013-11-29  Buttes-Montmartre  Paris             2    120\n",
              "2 2014-07-31             Elysee  Paris             2     89\n",
              "3 2013-12-17          Vaugirard  Paris             2     58\n",
              "4 2014-12-14              Passy  Paris             2     60"
            ]
          },
          "execution_count": 46,
          "metadata": {},
          "output_type": "execute_result"
        }
      ],
      "source": [
        "# check new dataframe\n",
        "paris_listing.head()"
      ]
    },
    {
      "cell_type": "code",
      "execution_count": 47,
      "metadata": {
        "colab": {
          "base_uri": "https://localhost:8080/"
        },
        "id": "WbBtTQdF8EvI",
        "outputId": "6ecf64d3-ebdd-4f2e-b232-ed103e524932"
      },
      "outputs": [
        {
          "data": {
            "text/plain": [
              "(64690, 5)"
            ]
          },
          "execution_count": 47,
          "metadata": {},
          "output_type": "execute_result"
        }
      ],
      "source": [
        "# dimensions\n",
        "paris_listing.shape"
      ]
    },
    {
      "cell_type": "code",
      "execution_count": 48,
      "metadata": {
        "colab": {
          "base_uri": "https://localhost:8080/",
          "height": 241
        },
        "id": "XvB3uvyF7QoG",
        "outputId": "d6699cb6-82a1-487a-c1d4-e84c2549e404"
      },
      "outputs": [
        {
          "data": {
            "text/html": [
              "<div>\n",
              "<style scoped>\n",
              "    .dataframe tbody tr th:only-of-type {\n",
              "        vertical-align: middle;\n",
              "    }\n",
              "\n",
              "    .dataframe tbody tr th {\n",
              "        vertical-align: top;\n",
              "    }\n",
              "\n",
              "    .dataframe thead th {\n",
              "        text-align: right;\n",
              "    }\n",
              "</style>\n",
              "<table border=\"1\" class=\"dataframe\">\n",
              "  <thead>\n",
              "    <tr style=\"text-align: right;\">\n",
              "      <th></th>\n",
              "      <th>count</th>\n",
              "      <th>mean</th>\n",
              "      <th>std</th>\n",
              "      <th>min</th>\n",
              "      <th>25%</th>\n",
              "      <th>50%</th>\n",
              "      <th>75%</th>\n",
              "      <th>max</th>\n",
              "    </tr>\n",
              "  </thead>\n",
              "  <tbody>\n",
              "    <tr>\n",
              "      <th>accommodates</th>\n",
              "      <td>64690.0</td>\n",
              "      <td>3.037997</td>\n",
              "      <td>1.588766</td>\n",
              "      <td>0.0</td>\n",
              "      <td>2.0</td>\n",
              "      <td>2.0</td>\n",
              "      <td>4.0</td>\n",
              "      <td>16.0</td>\n",
              "    </tr>\n",
              "    <tr>\n",
              "      <th>price</th>\n",
              "      <td>64690.0</td>\n",
              "      <td>113.096445</td>\n",
              "      <td>214.433668</td>\n",
              "      <td>0.0</td>\n",
              "      <td>59.0</td>\n",
              "      <td>80.0</td>\n",
              "      <td>120.0</td>\n",
              "      <td>12000.0</td>\n",
              "    </tr>\n",
              "  </tbody>\n",
              "</table>\n",
              "</div>"
            ],
            "text/plain": [
              "                count        mean         std  min   25%   50%    75%      max\n",
              "accommodates  64690.0    3.037997    1.588766  0.0   2.0   2.0    4.0     16.0\n",
              "price         64690.0  113.096445  214.433668  0.0  59.0  80.0  120.0  12000.0"
            ]
          },
          "execution_count": 48,
          "metadata": {},
          "output_type": "execute_result"
        }
      ],
      "source": [
        "# descriptive statistics\n",
        "paris_listing.describe().T"
      ]
    },
    {
      "cell_type": "code",
      "execution_count": 49,
      "metadata": {
        "colab": {
          "base_uri": "https://localhost:8080/",
          "height": 241
        },
        "id": "QZpr_dUd7iTU",
        "outputId": "d345c0b6-1ddd-43ee-d9ab-1437e24972f3"
      },
      "outputs": [
        {
          "data": {
            "text/plain": [
              "host_since       33\n",
              "neighbourhood     0\n",
              "city              0\n",
              "accommodates      0\n",
              "price             0\n",
              "dtype: int64"
            ]
          },
          "execution_count": 49,
          "metadata": {},
          "output_type": "execute_result"
        }
      ],
      "source": [
        "# check for null/missing values\n",
        "paris_listing.isnull().sum()"
      ]
    },
    {
      "cell_type": "code",
      "execution_count": 50,
      "metadata": {
        "colab": {
          "base_uri": "https://localhost:8080/"
        },
        "id": "Zl6dMOpf7uuJ",
        "outputId": "0c271a8a-4e2f-4eee-b7f3-f84b8cba5c54"
      },
      "outputs": [
        {
          "data": {
            "text/plain": [
              "2113"
            ]
          },
          "execution_count": 50,
          "metadata": {},
          "output_type": "execute_result"
        }
      ],
      "source": [
        "# duplicate records\n",
        "paris_listing.duplicated().sum()"
      ]
    },
    {
      "cell_type": "code",
      "execution_count": 51,
      "metadata": {
        "id": "yYcvQngB70hl"
      },
      "outputs": [],
      "source": [
        "# drop duplicates\n",
        "paris_listing.drop_duplicates(inplace=True)"
      ]
    },
    {
      "cell_type": "code",
      "execution_count": 52,
      "metadata": {},
      "outputs": [
        {
          "data": {
            "text/plain": [
              "host_since       53\n",
              "neighbourhood    53\n",
              "city             53\n",
              "accommodates     53\n",
              "price            53\n",
              "dtype: int64"
            ]
          },
          "execution_count": 52,
          "metadata": {},
          "output_type": "execute_result"
        }
      ],
      "source": [
        "# instances where accommodates == 0 with price == 0\n",
        "paris_listing.query(\"accommodates == 0 and price == 0\").count()"
      ]
    },
    {
      "cell_type": "code",
      "execution_count": 54,
      "metadata": {},
      "outputs": [
        {
          "data": {
            "text/plain": [
              "host_since       61\n",
              "neighbourhood    61\n",
              "city             61\n",
              "accommodates     61\n",
              "price            61\n",
              "dtype: int64"
            ]
          },
          "execution_count": 54,
          "metadata": {},
          "output_type": "execute_result"
        }
      ],
      "source": [
        "# instances where accommodates == 0 and price == 0\n",
        "paris_listing.query(\"accommodates == 0\" and \"price == 0\").count()"
      ]
    },
    {
      "cell_type": "markdown",
      "metadata": {},
      "source": [
        "As you can see that a very small fraction of our dataset has some inconsistent values which could be a data entry error or incomplete information as nobody will rent their airbnb for free. Since, it is a very small fraction as compared to the whole dataset, it won't affect our analysis that much."
      ]
    },
    {
      "cell_type": "code",
      "execution_count": 53,
      "metadata": {
        "colab": {
          "base_uri": "https://localhost:8080/"
        },
        "id": "ZH0tuup-78D3",
        "outputId": "4c55afeb-a685-47eb-95e2-76ec80b70ed7"
      },
      "outputs": [
        {
          "data": {
            "text/plain": [
              "(62577, 5)"
            ]
          },
          "execution_count": 53,
          "metadata": {},
          "output_type": "execute_result"
        }
      ],
      "source": [
        "# dimensions of the new dataframe\n",
        "paris_listing.shape"
      ]
    },
    {
      "cell_type": "code",
      "execution_count": 55,
      "metadata": {
        "id": "UveHEJ1FKe4j"
      },
      "outputs": [],
      "source": [
        "# create a column host_year\n",
        "paris_listing['host_year'] = paris_listing['host_since'].dt.year.convert_dtypes('int')"
      ]
    },
    {
      "cell_type": "markdown",
      "metadata": {},
      "source": [
        "#### Objective 2: Prepare the data for visualization\n",
        "Your second objective is to produce DataFrames that will be used in visualizations by aggregating and manipulating the listings data in several ways."
      ]
    },
    {
      "cell_type": "markdown",
      "metadata": {
        "id": "ZBSAdtRdF0GP"
      },
      "source": [
        "#### Task 1: Create a table named paris_listings_neighbourhood that groups Paris listings by 'neighbourhood' and calculates the mean price (sorted low to high)"
      ]
    },
    {
      "cell_type": "code",
      "execution_count": 56,
      "metadata": {
        "colab": {
          "base_uri": "https://localhost:8080/",
          "height": 676
        },
        "id": "JBktMla08An-",
        "outputId": "542b9ef3-0dfe-4294-8f9a-35006c10d144"
      },
      "outputs": [
        {
          "data": {
            "text/html": [
              "<div>\n",
              "<style scoped>\n",
              "    .dataframe tbody tr th:only-of-type {\n",
              "        vertical-align: middle;\n",
              "    }\n",
              "\n",
              "    .dataframe tbody tr th {\n",
              "        vertical-align: top;\n",
              "    }\n",
              "\n",
              "    .dataframe thead th {\n",
              "        text-align: right;\n",
              "    }\n",
              "</style>\n",
              "<table border=\"1\" class=\"dataframe\">\n",
              "  <thead>\n",
              "    <tr style=\"text-align: right;\">\n",
              "      <th></th>\n",
              "      <th>neighbourhood</th>\n",
              "      <th>price</th>\n",
              "    </tr>\n",
              "  </thead>\n",
              "  <tbody>\n",
              "    <tr>\n",
              "      <th>0</th>\n",
              "      <td>Menilmontant</td>\n",
              "      <td>75.45</td>\n",
              "    </tr>\n",
              "    <tr>\n",
              "      <th>1</th>\n",
              "      <td>Buttes-Chaumont</td>\n",
              "      <td>80.91</td>\n",
              "    </tr>\n",
              "    <tr>\n",
              "      <th>2</th>\n",
              "      <td>Buttes-Montmartre</td>\n",
              "      <td>87.55</td>\n",
              "    </tr>\n",
              "    <tr>\n",
              "      <th>3</th>\n",
              "      <td>Reuilly</td>\n",
              "      <td>89.46</td>\n",
              "    </tr>\n",
              "    <tr>\n",
              "      <th>4</th>\n",
              "      <td>Popincourt</td>\n",
              "      <td>90.81</td>\n",
              "    </tr>\n",
              "    <tr>\n",
              "      <th>5</th>\n",
              "      <td>Gobelins</td>\n",
              "      <td>98.44</td>\n",
              "    </tr>\n",
              "    <tr>\n",
              "      <th>6</th>\n",
              "      <td>Observatoire</td>\n",
              "      <td>102.13</td>\n",
              "    </tr>\n",
              "    <tr>\n",
              "      <th>7</th>\n",
              "      <td>Batignolles-Monceau</td>\n",
              "      <td>102.66</td>\n",
              "    </tr>\n",
              "    <tr>\n",
              "      <th>8</th>\n",
              "      <td>Enclos-St-Laurent</td>\n",
              "      <td>103.07</td>\n",
              "    </tr>\n",
              "    <tr>\n",
              "      <th>9</th>\n",
              "      <td>Vaugirard</td>\n",
              "      <td>106.85</td>\n",
              "    </tr>\n",
              "    <tr>\n",
              "      <th>10</th>\n",
              "      <td>Opera</td>\n",
              "      <td>119.86</td>\n",
              "    </tr>\n",
              "    <tr>\n",
              "      <th>11</th>\n",
              "      <td>Pantheon</td>\n",
              "      <td>122.18</td>\n",
              "    </tr>\n",
              "    <tr>\n",
              "      <th>12</th>\n",
              "      <td>Temple</td>\n",
              "      <td>138.83</td>\n",
              "    </tr>\n",
              "    <tr>\n",
              "      <th>13</th>\n",
              "      <td>Bourse</td>\n",
              "      <td>142.14</td>\n",
              "    </tr>\n",
              "    <tr>\n",
              "      <th>14</th>\n",
              "      <td>Hotel-de-Ville</td>\n",
              "      <td>144.83</td>\n",
              "    </tr>\n",
              "    <tr>\n",
              "      <th>15</th>\n",
              "      <td>Palais-Bourbon</td>\n",
              "      <td>154.41</td>\n",
              "    </tr>\n",
              "    <tr>\n",
              "      <th>16</th>\n",
              "      <td>Luxembourg</td>\n",
              "      <td>156.55</td>\n",
              "    </tr>\n",
              "    <tr>\n",
              "      <th>17</th>\n",
              "      <td>Passy</td>\n",
              "      <td>162.15</td>\n",
              "    </tr>\n",
              "    <tr>\n",
              "      <th>18</th>\n",
              "      <td>Louvre</td>\n",
              "      <td>175.81</td>\n",
              "    </tr>\n",
              "    <tr>\n",
              "      <th>19</th>\n",
              "      <td>Elysee</td>\n",
              "      <td>212.47</td>\n",
              "    </tr>\n",
              "  </tbody>\n",
              "</table>\n",
              "</div>"
            ],
            "text/plain": [
              "          neighbourhood   price\n",
              "0          Menilmontant   75.45\n",
              "1       Buttes-Chaumont   80.91\n",
              "2     Buttes-Montmartre   87.55\n",
              "3               Reuilly   89.46\n",
              "4            Popincourt   90.81\n",
              "5              Gobelins   98.44\n",
              "6          Observatoire  102.13\n",
              "7   Batignolles-Monceau  102.66\n",
              "8     Enclos-St-Laurent  103.07\n",
              "9             Vaugirard  106.85\n",
              "10                Opera  119.86\n",
              "11             Pantheon  122.18\n",
              "12               Temple  138.83\n",
              "13               Bourse  142.14\n",
              "14       Hotel-de-Ville  144.83\n",
              "15       Palais-Bourbon  154.41\n",
              "16           Luxembourg  156.55\n",
              "17                Passy  162.15\n",
              "18               Louvre  175.81\n",
              "19               Elysee  212.47"
            ]
          },
          "execution_count": 56,
          "metadata": {},
          "output_type": "execute_result"
        }
      ],
      "source": [
        "paris_listing_neighbourhood = paris_listing.groupby('neighbourhood').agg({'price':'mean'}).sort_values(\n",
        "    by='price', ascending=True).reset_index()\n",
        "paris_listing_neighbourhood['price'] = paris_listing_neighbourhood['price'].round(2)\n",
        "paris_listing_neighbourhood"
      ]
    },
    {
      "cell_type": "markdown",
      "metadata": {
        "id": "6JUZNLDJIUNS"
      },
      "source": [
        "#### Task 2 - Create a table named paris_listings_accomodations, filter down to the most expensive neighborhood, group by the ‘accommodations’ column, and add the mean price for each value of ‘accommodates’ (sorted low to high)"
      ]
    },
    {
      "cell_type": "code",
      "execution_count": 57,
      "metadata": {
        "colab": {
          "base_uri": "https://localhost:8080/",
          "height": 551
        },
        "id": "JjID3h8e8j3g",
        "outputId": "33636321-793a-445d-e91c-5924afd20df0"
      },
      "outputs": [
        {
          "data": {
            "text/html": [
              "<div>\n",
              "<style scoped>\n",
              "    .dataframe tbody tr th:only-of-type {\n",
              "        vertical-align: middle;\n",
              "    }\n",
              "\n",
              "    .dataframe tbody tr th {\n",
              "        vertical-align: top;\n",
              "    }\n",
              "\n",
              "    .dataframe thead th {\n",
              "        text-align: right;\n",
              "    }\n",
              "</style>\n",
              "<table border=\"1\" class=\"dataframe\">\n",
              "  <thead>\n",
              "    <tr style=\"text-align: right;\">\n",
              "      <th></th>\n",
              "      <th>accommodates</th>\n",
              "      <th>price</th>\n",
              "    </tr>\n",
              "  </thead>\n",
              "  <tbody>\n",
              "    <tr>\n",
              "      <th>0</th>\n",
              "      <td>0</td>\n",
              "      <td>0.00</td>\n",
              "    </tr>\n",
              "    <tr>\n",
              "      <th>1</th>\n",
              "      <td>1</td>\n",
              "      <td>80.47</td>\n",
              "    </tr>\n",
              "    <tr>\n",
              "      <th>2</th>\n",
              "      <td>3</td>\n",
              "      <td>153.34</td>\n",
              "    </tr>\n",
              "    <tr>\n",
              "      <th>3</th>\n",
              "      <td>2</td>\n",
              "      <td>157.24</td>\n",
              "    </tr>\n",
              "    <tr>\n",
              "      <th>4</th>\n",
              "      <td>4</td>\n",
              "      <td>213.65</td>\n",
              "    </tr>\n",
              "    <tr>\n",
              "      <th>5</th>\n",
              "      <td>5</td>\n",
              "      <td>330.09</td>\n",
              "    </tr>\n",
              "    <tr>\n",
              "      <th>6</th>\n",
              "      <td>6</td>\n",
              "      <td>357.68</td>\n",
              "    </tr>\n",
              "    <tr>\n",
              "      <th>7</th>\n",
              "      <td>8</td>\n",
              "      <td>395.50</td>\n",
              "    </tr>\n",
              "    <tr>\n",
              "      <th>8</th>\n",
              "      <td>7</td>\n",
              "      <td>411.54</td>\n",
              "    </tr>\n",
              "    <tr>\n",
              "      <th>9</th>\n",
              "      <td>9</td>\n",
              "      <td>440.27</td>\n",
              "    </tr>\n",
              "    <tr>\n",
              "      <th>10</th>\n",
              "      <td>10</td>\n",
              "      <td>500.86</td>\n",
              "    </tr>\n",
              "    <tr>\n",
              "      <th>11</th>\n",
              "      <td>12</td>\n",
              "      <td>529.62</td>\n",
              "    </tr>\n",
              "    <tr>\n",
              "      <th>12</th>\n",
              "      <td>11</td>\n",
              "      <td>715.67</td>\n",
              "    </tr>\n",
              "    <tr>\n",
              "      <th>13</th>\n",
              "      <td>16</td>\n",
              "      <td>800.00</td>\n",
              "    </tr>\n",
              "    <tr>\n",
              "      <th>14</th>\n",
              "      <td>13</td>\n",
              "      <td>842.50</td>\n",
              "    </tr>\n",
              "    <tr>\n",
              "      <th>15</th>\n",
              "      <td>14</td>\n",
              "      <td>971.00</td>\n",
              "    </tr>\n",
              "  </tbody>\n",
              "</table>\n",
              "</div>"
            ],
            "text/plain": [
              "    accommodates   price\n",
              "0              0    0.00\n",
              "1              1   80.47\n",
              "2              3  153.34\n",
              "3              2  157.24\n",
              "4              4  213.65\n",
              "5              5  330.09\n",
              "6              6  357.68\n",
              "7              8  395.50\n",
              "8              7  411.54\n",
              "9              9  440.27\n",
              "10            10  500.86\n",
              "11            12  529.62\n",
              "12            11  715.67\n",
              "13            16  800.00\n",
              "14            13  842.50\n",
              "15            14  971.00"
            ]
          },
          "execution_count": 57,
          "metadata": {},
          "output_type": "execute_result"
        }
      ],
      "source": [
        "paris_listing_accomodations = paris_listing[paris_listing['neighbourhood']=='Elysee'].groupby('accommodates').agg({'price':'mean'}).sort_values(\n",
        "    by='price', ascending=True).reset_index()\n",
        "paris_listing_accomodations['price'] = paris_listing_accomodations['price'].round(2)\n",
        "paris_listing_accomodations"
      ]
    },
    {
      "cell_type": "markdown",
      "metadata": {
        "id": "nILOkPyRJiFR"
      },
      "source": [
        "#### Task 3: Create a table called paris_listings_over_time grouped by the ‘host_since’ year, and calculate the average price and count of rows representing the number of new hosts"
      ]
    },
    {
      "cell_type": "code",
      "execution_count": 58,
      "metadata": {
        "colab": {
          "base_uri": "https://localhost:8080/",
          "height": 488
        },
        "id": "dwvdYiLzIspD",
        "outputId": "17e09e19-eeef-4617-9d46-53f0334efebb"
      },
      "outputs": [
        {
          "data": {
            "text/html": [
              "<div>\n",
              "<style scoped>\n",
              "    .dataframe tbody tr th:only-of-type {\n",
              "        vertical-align: middle;\n",
              "    }\n",
              "\n",
              "    .dataframe tbody tr th {\n",
              "        vertical-align: top;\n",
              "    }\n",
              "\n",
              "    .dataframe thead th {\n",
              "        text-align: right;\n",
              "    }\n",
              "</style>\n",
              "<table border=\"1\" class=\"dataframe\">\n",
              "  <thead>\n",
              "    <tr style=\"text-align: right;\">\n",
              "      <th></th>\n",
              "      <th>host_year</th>\n",
              "      <th>host_since</th>\n",
              "      <th>price</th>\n",
              "    </tr>\n",
              "  </thead>\n",
              "  <tbody>\n",
              "    <tr>\n",
              "      <th>0</th>\n",
              "      <td>2008</td>\n",
              "      <td>4</td>\n",
              "      <td>77.75</td>\n",
              "    </tr>\n",
              "    <tr>\n",
              "      <th>1</th>\n",
              "      <td>2009</td>\n",
              "      <td>104</td>\n",
              "      <td>159.97</td>\n",
              "    </tr>\n",
              "    <tr>\n",
              "      <th>2</th>\n",
              "      <td>2010</td>\n",
              "      <td>412</td>\n",
              "      <td>125.15</td>\n",
              "    </tr>\n",
              "    <tr>\n",
              "      <th>3</th>\n",
              "      <td>2011</td>\n",
              "      <td>1318</td>\n",
              "      <td>125.11</td>\n",
              "    </tr>\n",
              "    <tr>\n",
              "      <th>4</th>\n",
              "      <td>2012</td>\n",
              "      <td>4487</td>\n",
              "      <td>111.95</td>\n",
              "    </tr>\n",
              "    <tr>\n",
              "      <th>5</th>\n",
              "      <td>2013</td>\n",
              "      <td>7926</td>\n",
              "      <td>106.86</td>\n",
              "    </tr>\n",
              "    <tr>\n",
              "      <th>6</th>\n",
              "      <td>2014</td>\n",
              "      <td>10614</td>\n",
              "      <td>100.50</td>\n",
              "    </tr>\n",
              "    <tr>\n",
              "      <th>7</th>\n",
              "      <td>2015</td>\n",
              "      <td>11747</td>\n",
              "      <td>104.19</td>\n",
              "    </tr>\n",
              "    <tr>\n",
              "      <th>8</th>\n",
              "      <td>2016</td>\n",
              "      <td>8601</td>\n",
              "      <td>112.03</td>\n",
              "    </tr>\n",
              "    <tr>\n",
              "      <th>9</th>\n",
              "      <td>2017</td>\n",
              "      <td>4422</td>\n",
              "      <td>108.90</td>\n",
              "    </tr>\n",
              "    <tr>\n",
              "      <th>10</th>\n",
              "      <td>2018</td>\n",
              "      <td>4149</td>\n",
              "      <td>138.97</td>\n",
              "    </tr>\n",
              "    <tr>\n",
              "      <th>11</th>\n",
              "      <td>2019</td>\n",
              "      <td>5376</td>\n",
              "      <td>131.68</td>\n",
              "    </tr>\n",
              "    <tr>\n",
              "      <th>12</th>\n",
              "      <td>2020</td>\n",
              "      <td>3260</td>\n",
              "      <td>137.74</td>\n",
              "    </tr>\n",
              "    <tr>\n",
              "      <th>13</th>\n",
              "      <td>2021</td>\n",
              "      <td>124</td>\n",
              "      <td>96.41</td>\n",
              "    </tr>\n",
              "  </tbody>\n",
              "</table>\n",
              "</div>"
            ],
            "text/plain": [
              "    host_year  host_since   price\n",
              "0        2008           4   77.75\n",
              "1        2009         104  159.97\n",
              "2        2010         412  125.15\n",
              "3        2011        1318  125.11\n",
              "4        2012        4487  111.95\n",
              "5        2013        7926  106.86\n",
              "6        2014       10614  100.50\n",
              "7        2015       11747  104.19\n",
              "8        2016        8601  112.03\n",
              "9        2017        4422  108.90\n",
              "10       2018        4149  138.97\n",
              "11       2019        5376  131.68\n",
              "12       2020        3260  137.74\n",
              "13       2021         124   96.41"
            ]
          },
          "execution_count": 58,
          "metadata": {},
          "output_type": "execute_result"
        }
      ],
      "source": [
        "paris_listings_over_time = paris_listing.groupby('host_year').agg({'host_since':'count', 'price':'mean'}).sort_values(\n",
        "    by='host_year', ascending=True).reset_index()\n",
        "paris_listings_over_time['price'] = paris_listings_over_time['price'].round(2)\n",
        "paris_listings_over_time"
      ]
    },
    {
      "cell_type": "markdown",
      "metadata": {
        "id": "phvsQQPWMnRf"
      },
      "source": [
        "#### Objective 3 - Visualize the data and summarize findings\n",
        "\n",
        "Your final objective is to build visuals to show the number of new hosts by year, overall average price by year and neighborhood, and average price for various types of listings in Paris' most expensive neighborhood."
      ]
    },
    {
      "cell_type": "markdown",
      "metadata": {
        "id": "DNVqiycCLwnm"
      },
      "source": [
        "#### Task 1: Create a horizontal bar chart of the average price by neighborhood in Paris, and make sure to add a title and change axis labels as needed"
      ]
    },
    {
      "cell_type": "code",
      "execution_count": 59,
      "metadata": {
        "colab": {
          "base_uri": "https://localhost:8080/",
          "height": 472
        },
        "id": "SH2Y2WTdL3Kr",
        "outputId": "d50a7ab3-dc3c-45d7-821e-e73f6dd37105"
      },
      "outputs": [
        {
          "data": {
            "image/png": "[encoded data removed]",
            "text/plain": [
              "<Figure size 800x500 with 1 Axes>"
            ]
          },
          "metadata": {},
          "output_type": "display_data"
        }
      ],
      "source": [
        "plt.figure(figsize=(8,5))\n",
        "sns.barplot(data=paris_listing_neighbourhood, x='price', y='neighbourhood', estimator=np.mean, ci=None, dodge=False,\n",
        "            palette='crest')\n",
        "plt.title('Average Price by Neighborhood in Paris')\n",
        "plt.xlabel('Average Price')\n",
        "plt.ylabel('Neighborhood')\n",
        "plt.show()"
      ]
    },
    {
      "cell_type": "markdown",
      "metadata": {
        "id": "6ePgOCCaM2Pk"
      },
      "source": [
        "#### Task 2: Create a horizontal bar chart of the average price by ‘accommodates’ in Paris’ most expensive neighborhood, and make sure to add a title and change axis labels as needed"
      ]
    },
    {
      "cell_type": "code",
      "execution_count": 60,
      "metadata": {
        "colab": {
          "base_uri": "https://localhost:8080/",
          "height": 472
        },
        "id": "cM5zbSLZMCl4",
        "outputId": "57f434d0-7bc9-40ea-b372-f4a944ebfe43"
      },
      "outputs": [
        {
          "data": {
            "image/png": "[encoded data removed]",
            "text/plain": [
              "<Figure size 800x500 with 1 Axes>"
            ]
          },
          "metadata": {},
          "output_type": "display_data"
        }
      ],
      "source": [
        "plt.figure(figsize=(8,5))\n",
        "sns.barplot(data=paris_listing_accomodations, x='accommodates', y='price', estimator=np.mean, ci=None, dodge=False,\n",
        "            palette='crest')\n",
        "plt.title('Average Price by Accommodates in Paris')\n",
        "plt.xlabel('Accommodates')\n",
        "plt.ylabel('Average Price')\n",
        "plt.show()"
      ]
    },
    {
      "cell_type": "markdown",
      "metadata": {
        "id": "poBk5L1XN0_m"
      },
      "source": [
        "#### Task 3: Create two line charts: one showing the count of new hosts over time, and one showing average price. Set the y-axis limit to 0, add a title, and change axis labels as needed"
      ]
    },
    {
      "cell_type": "code",
      "execution_count": 61,
      "metadata": {
        "colab": {
          "base_uri": "https://localhost:8080/",
          "height": 430
        },
        "id": "urM8wZzsNBta",
        "outputId": "b2765b32-eab1-49b2-b545-1e892bfc9378"
      },
      "outputs": [
        {
          "data": {
            "image/png": "[encoded data removed]",
            "text/plain": [
              "<Figure size 1500x500 with 2 Axes>"
            ]
          },
          "metadata": {},
          "output_type": "display_data"
        }
      ],
      "source": [
        "plt.figure(figsize=(15,5))\n",
        "\n",
        "# New hosts over time\n",
        "ax1 = plt.subplot2grid((1,2),(0,0))\n",
        "sns.lineplot(data=paris_listings_over_time, x='host_year', y='host_since', palette='crest', ax=ax1)\n",
        "plt.title(\"New Hosts over Time\")\n",
        "plt.xlabel(\"Year\")\n",
        "plt.ylabel(\"Hosts Counts\")\n",
        "plt.grid(True)\n",
        "\n",
        "\n",
        "# Average Price over time\n",
        "ax2 = plt.subplot2grid((1,2),(0,1))\n",
        "sns.lineplot(data=paris_listings_over_time, x='host_year', y='price', palette='crest', ax=ax2)\n",
        "plt.title(\"Average Price over Time\")\n",
        "plt.xlabel(\"Year\")\n",
        "plt.ylabel(\"Average Price\")\n",
        "plt.grid(True)\n",
        "\n",
        "plt.tight_layout()\n",
        "plt.show()"
      ]
    },
    {
      "cell_type": "markdown",
      "metadata": {
        "id": "MZW-3gUKPSbc"
      },
      "source": [
        "#### Bonus Task: Create a dual axis line chart to show both new hosts and average price over time"
      ]
    },
    {
      "cell_type": "code",
      "execution_count": 63,
      "metadata": {
        "colab": {
          "base_uri": "https://localhost:8080/",
          "height": 430
        },
        "id": "Xn2-hoPdN7O2",
        "outputId": "e1f7ab3d-e856-4356-e5c8-2a851322d688"
      },
      "outputs": [
        {
          "data": {
            "image/png": "[encoded data removed]",
            "text/plain": [
              "<Figure size 1000x500 with 2 Axes>"
            ]
          },
          "metadata": {},
          "output_type": "display_data"
        }
      ],
      "source": [
        "# Create a figure\n",
        "plt.figure(figsize=(10, 5))\n",
        "\n",
        "# Create the first axis for \"New Hosts over Time\"\n",
        "ax1 = plt.gca()  # Get the current axes (first plot)\n",
        "sns.lineplot(data=paris_listings_over_time, x='host_year', y='host_since', color='b', ax=ax1)\n",
        "ax1.set_title(\"New Hosts and Average Price over Time\")\n",
        "ax1.set_xlabel(\"Year\")\n",
        "ax1.set_ylabel(\"Hosts Count\", color='b')\n",
        "ax1.tick_params(axis='y', labelcolor='b')\n",
        "ax1.grid(True)\n",
        "\n",
        "# Create the second axis for \"Average Price over Time\"\n",
        "ax2 = ax1.twinx()  # Create a twin axis sharing the same x-axis\n",
        "sns.lineplot(data=paris_listings_over_time, x='host_year', y='price', color='g', ax=ax2)\n",
        "ax2.set_ylabel(\"Average Price\", color='g')\n",
        "ax2.tick_params(axis='y', labelcolor='g')\n",
        "\n",
        "# Adjust layout\n",
        "plt.tight_layout()\n",
        "\n",
        "# Show the plot\n",
        "plt.show()"
      ]
    },
    {
      "cell_type": "markdown",
      "metadata": {},
      "source": [
        "#### As we can see from above line charts that the 2015 regulations lead to fewer new hosts but higher prices."
      ]
    }
  ],
  "metadata": {
    "accelerator": "GPU",
    "colab": {
      "gpuType": "T4",
      "provenance": []
    },
    "kernelspec": {
      "display_name": "Deep_Learning",
      "language": "python",
      "name": "python3"
    },
    "language_info": {
      "codemirror_mode": {
        "name": "ipython",
        "version": 3
      },
      "file_extension": ".py",
      "mimetype": "text/x-python",
      "name": "python",
      "nbconvert_exporter": "python",
      "pygments_lexer": "ipython3",
      "version": "3.9.18"
    }
  },
  "nbformat": 4,
  "nbformat_minor": 0
}
