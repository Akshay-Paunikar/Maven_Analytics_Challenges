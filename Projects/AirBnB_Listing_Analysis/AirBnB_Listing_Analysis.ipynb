{
 "cells": [
  {
   "cell_type": "markdown",
   "metadata": {},
   "source": [
    "## AirBnB Listing Analysis\n",
    "Analyze AirBnB listings in Paris to determine the impact of recent regulations\n",
    "\n",
    "#### Airbnb Listings & Reviews\n",
    "Airbnb data for 250,000+ listings in 10 major cities, including information about hosts, pricing, location, and room type, along with over 5 million historical reviews.\n",
    "\n",
    "NOTE: Prices are in local currency\n",
    "\n",
    "#### Recommended Analysis\n",
    "\n",
    " - Can you spot any major differences in the Airbnb market between cities?\n",
    "\n",
    " - Which attributes have the biggest influence in price?\n",
    "\n",
    " - Are you able to identify any trends or seasonality in the review data?\n",
    "\n",
    " - Which city offers a better value for travel?"
   ]
  }
 ],
 "metadata": {
  "language_info": {
   "name": "python"
  }
 },
 "nbformat": 4,
 "nbformat_minor": 2
}
