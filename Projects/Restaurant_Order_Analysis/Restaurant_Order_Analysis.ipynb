{
 "cells": [
  {
   "cell_type": "markdown",
   "metadata": {},
   "source": [
    "### Restaurant Order Analysis\n",
    "\n",
    "Analyze order data to identify the most and least popular menu items and types of cuisine\n",
    "\n",
    "#### Problem Statement:\n",
    "\n",
    "You've just been hired as a Data Analyst for the Taste of the World Cafe, a restaurant that has diverse menu offerings and serves generous portions. The Taste of the World Cafe debuted a new menu at the start of the year. You've been asked to dig into the customer data to see which menu items are doing well / not well and what the top customers seem to like the most.\n",
    "\n",
    "#### Objectives: \n",
    "<b>Objective 1: </b>Explore the items table\n",
    "\n",
    "Your first objective is to better understand the items table by finding the number of rows in the table, the least and most expensive items, and the item prices within each category.\n",
    "\n",
    "<b>Objective 2: </b>Explore the orders table\n",
    "\n",
    "Your second objective is to better understand the orders table by finding the date range, the number of items within each order, and the orders with the highest number of items.\n",
    "\n",
    "<b>Objective 3: </b>Analyze customer behavior\n",
    "\n",
    "Your final objective is to combine the items and orders tables, find the least and most ordered categories, and dive into the details of the highest spend orders."
   ]
  },
  {
   "cell_type": "code",
   "execution_count": 17,
   "metadata": {},
   "outputs": [],
   "source": [
    "import numpy as np\n",
    "import pandas as pd\n",
    "import matplotlib.pyplot as plt\n",
    "%matplotlib inline\n",
    "import seaborn as sns\n",
    "import mysql.connector"
   ]
  },
  {
   "cell_type": "code",
   "execution_count": null,
   "metadata": {},
   "outputs": [
    {
     "name": "stderr",
     "output_type": "stream",
     "text": [
      "d:\\anaconda\\envs\\Deep_Learning\\lib\\site-packages\\pandas\\io\\sql.py:761: UserWarning: pandas only support SQLAlchemy connectable(engine/connection) ordatabase string URI or sqlite3 DBAPI2 connectionother DBAPI2 objects are not tested, please consider using SQLAlchemy\n",
      "  warnings.warn(\n",
      "d:\\anaconda\\envs\\Deep_Learning\\lib\\site-packages\\pandas\\io\\sql.py:761: UserWarning: pandas only support SQLAlchemy connectable(engine/connection) ordatabase string URI or sqlite3 DBAPI2 connectionother DBAPI2 objects are not tested, please consider using SQLAlchemy\n",
      "  warnings.warn(\n"
     ]
    }
   ],
   "source": [
    "# conn = mysql.connector.connect(\n",
    "#     host=\"localhost\",\n",
    "#     user=\"root\",\n",
    "#     password=\"password\",\n",
    "#     database=\"restaurant_db\"\n",
    "# )\n",
    "\n",
    "# query1 = \"SELECT * FROM menu_items\"\n",
    "# query2 = \"SELECT * FROM order_details\"\n",
    "# menu_items = pd.read_sql(query1, conn)\n",
    "# order_details = pd.read_sql(query2, conn)\n",
    "\n",
    "# conn.close()"
   ]
  },
  {
   "cell_type": "code",
   "execution_count": null,
   "metadata": {},
   "outputs": [],
   "source": [
    "# menu_items.to_csv(\"menu_items.csv\", index=False)\n",
    "# order_details.to_csv(\"order_details.csv\", index=False)"
   ]
  },
  {
   "cell_type": "code",
   "execution_count": null,
   "metadata": {},
   "outputs": [],
   "source": []
  }
 ],
 "metadata": {
  "kernelspec": {
   "display_name": "Deep_Learning",
   "language": "python",
   "name": "python3"
  },
  "language_info": {
   "codemirror_mode": {
    "name": "ipython",
    "version": 3
   },
   "file_extension": ".py",
   "mimetype": "text/x-python",
   "name": "python",
   "nbconvert_exporter": "python",
   "pygments_lexer": "ipython3",
   "version": "3.9.18"
  }
 },
 "nbformat": 4,
 "nbformat_minor": 2
}
